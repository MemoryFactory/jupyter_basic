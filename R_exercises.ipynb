{
 "cells": [
  {
   "cell_type": "code",
   "execution_count": 1,
   "id": "74b0c567-9b41-4111-96b1-957c627c1acd",
   "metadata": {},
   "outputs": [],
   "source": [
    "# 《趣学贝叶斯统计：橡皮鸭、乐高和星球大战中的统计学》"
   ]
  },
  {
   "cell_type": "code",
   "execution_count": 5,
   "id": "1f48f3ac-473e-44e5-b79b-c8e521a42e43",
   "metadata": {},
   "outputs": [
    {
     "data": {
      "text/html": [
       "3"
      ],
      "text/latex": [
       "3"
      ],
      "text/markdown": [
       "3"
      ],
      "text/plain": [
       "[1] 3"
      ]
     },
     "metadata": {},
     "output_type": "display_data"
    }
   ],
   "source": [
    "# 4.3.1\n",
    "choose(3,2)"
   ]
  },
  {
   "cell_type": "code",
   "execution_count": 7,
   "id": "aa1dbc3a-f1de-4808-b487-2debae1f9359",
   "metadata": {},
   "outputs": [
    {
     "data": {
      "text/html": [
       "0.514513845254295"
      ],
      "text/latex": [
       "0.514513845254295"
      ],
      "text/markdown": [
       "0.514513845254295"
      ],
      "text/plain": [
       "[1] 0.5145138"
      ]
     },
     "metadata": {},
     "output_type": "display_data"
    }
   ],
   "source": [
    "# 4.4\n",
    "pbinom(0,100,0.00720,lower.tail=FALSE)"
   ]
  },
  {
   "cell_type": "code",
   "execution_count": 26,
   "id": "68cee794-e150-4af2-b12e-d989507370eb",
   "metadata": {},
   "outputs": [
    {
     "data": {
      "text/html": [
       "5"
      ],
      "text/latex": [
       "5"
      ],
      "text/markdown": [
       "5"
      ],
      "text/plain": [
       "[1] 5"
      ]
     },
     "metadata": {},
     "output_type": "display_data"
    },
    {
     "data": {
      "text/html": [
       "252"
      ],
      "text/latex": [
       "252"
      ],
      "text/markdown": [
       "252"
      ],
      "text/plain": [
       "[1] 252"
      ]
     },
     "metadata": {},
     "output_type": "display_data"
    },
    {
     "data": {
      "text/html": [
       "0.000454855287904086"
      ],
      "text/latex": [
       "0.000454855287904086"
      ],
      "text/markdown": [
       "0.000454855287904086"
      ],
      "text/plain": [
       "[1] 0.0004548553"
      ]
     },
     "metadata": {},
     "output_type": "display_data"
    },
    {
     "data": {
      "text/html": [
       "0.4232832"
      ],
      "text/latex": [
       "0.4232832"
      ],
      "text/markdown": [
       "0.4232832"
      ],
      "text/plain": [
       "[1] 0.4232832"
      ]
     },
     "metadata": {},
     "output_type": "display_data"
    },
    {
     "data": {
      "text/html": [
       "0.4232832"
      ],
      "text/latex": [
       "0.4232832"
      ],
      "text/markdown": [
       "0.4232832"
      ],
      "text/plain": [
       "[1] 0.4232832"
      ]
     },
     "metadata": {},
     "output_type": "display_data"
    },
    {
     "data": {
      "text/html": [
       "0.728794093538633"
      ],
      "text/latex": [
       "0.728794093538633"
      ],
      "text/markdown": [
       "0.728794093538633"
      ],
      "text/plain": [
       "[1] 0.7287941"
      ]
     },
     "metadata": {},
     "output_type": "display_data"
    }
   ],
   "source": [
    "# 4.6 exercise\n",
    "# (2)\n",
    "choose(5,1)\n",
    "# (3)\n",
    "choose(10,5)\n",
    "choose(10,5) * (4/52)^5 * (1-4/52)^(10-5)\n",
    "# (4)\n",
    "pbinom(1,7,1/5,lower.tail=FALSE)\n",
    "1 - choose(7,0)*(1/5)^0*(1-1/5)^(7-0) - choose(7,1)*(1/5)^1*(1-1/5)^(7-1)\n",
    "# (5)\n",
    "pbinom(1,25,1/10,lower.tail=FALSE)"
   ]
  },
  {
   "cell_type": "code",
   "execution_count": 31,
   "id": "a4dee53f-797b-4c01-b11c-79fdae098ba7",
   "metadata": {},
   "outputs": [
    {
     "data": {
      "text/html": [
       "0.0160253660942544"
      ],
      "text/latex": [
       "0.0160253660942544"
      ],
      "text/markdown": [
       "0.0160253660942544"
      ],
      "text/plain": [
       "[1] 0.01602537"
      ]
     },
     "metadata": {},
     "output_type": "display_data"
    },
    {
     "data": {
      "text/html": [
       "0.130470939031856"
      ],
      "text/latex": [
       "0.130470939031856"
      ],
      "text/markdown": [
       "0.130470939031856"
      ],
      "text/plain": [
       "[1] 0.1304709"
      ]
     },
     "metadata": {},
     "output_type": "display_data"
    },
    {
     "data": {
      "text/plain": [
       "0.9807613 with absolute error < 5.9e-06"
      ]
     },
     "metadata": {},
     "output_type": "display_data"
    },
    {
     "data": {
      "text/plain": [
       "0.2850559 with absolute error < 1e-04"
      ]
     },
     "metadata": {},
     "output_type": "display_data"
    },
    {
     "data": {
      "text/plain": [
       "0.09935258 with absolute error < 1.1e-15"
      ]
     },
     "metadata": {},
     "output_type": "display_data"
    },
    {
     "data": {
      "text/plain": [
       "0.30988 with absolute error < 3.4e-15"
      ]
     },
     "metadata": {},
     "output_type": "display_data"
    },
    {
     "data": {
      "text/plain": [
       "0.8589371 with absolute error < 9.5e-15"
      ]
     },
     "metadata": {},
     "output_type": "display_data"
    }
   ],
   "source": [
    "# 5\n",
    "# 5.1.3\n",
    "# B(k; n, p) = choose(n,k)*p^k*(1-p)^(n-k)\n",
    "n=41\n",
    "k=14\n",
    "p1=1/2\n",
    "p2=14/41\n",
    "choose(n,k)*(p1^k)*((1-p1)^(n-k))\n",
    "choose(n,k)*(p2^k)*((1-p2)^(n-k))\n",
    "# 5.2.3\n",
    "integrate(function(p) dbeta(p,14,27), 0,0.5)\n",
    "# help(\"integrate\")\n",
    "# help('dbeta')\n",
    "# 5.3\n",
    "integrate(function(x) dbeta(x,5,1195), 0.005,1)\n",
    "# 5.5 exercises\n",
    "# (1)\n",
    "integrate(function(p) dbeta(p,4,6), 0.6,1)\n",
    "# (2)\n",
    "integrate(function(p) dbeta(p,9,11), 0.45,0.55)\n",
    "# (3)\n",
    "integrate(function(p) dbeta(p,109,111), 0.45,0.55)"
   ]
  }
 ],
 "metadata": {
  "kernelspec": {
   "display_name": "R",
   "language": "R",
   "name": "ir"
  },
  "language_info": {
   "codemirror_mode": "r",
   "file_extension": ".r",
   "mimetype": "text/x-r-source",
   "name": "R",
   "pygments_lexer": "r",
   "version": "4.3.3"
  }
 },
 "nbformat": 4,
 "nbformat_minor": 5
}
