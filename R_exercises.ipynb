{
 "cells": [
  {
   "cell_type": "code",
   "execution_count": 1,
   "id": "74b0c567-9b41-4111-96b1-957c627c1acd",
   "metadata": {},
   "outputs": [],
   "source": [
    "# 《趣学贝叶斯统计：橡皮鸭、乐高和星球大战中的统计学》"
   ]
  },
  {
   "cell_type": "code",
   "execution_count": 5,
   "id": "1f48f3ac-473e-44e5-b79b-c8e521a42e43",
   "metadata": {},
   "outputs": [
    {
     "data": {
      "text/html": [
       "3"
      ],
      "text/latex": [
       "3"
      ],
      "text/markdown": [
       "3"
      ],
      "text/plain": [
       "[1] 3"
      ]
     },
     "metadata": {},
     "output_type": "display_data"
    }
   ],
   "source": [
    "# 4.3.1\n",
    "choose(3,2)"
   ]
  },
  {
   "cell_type": "code",
   "execution_count": 7,
   "id": "aa1dbc3a-f1de-4808-b487-2debae1f9359",
   "metadata": {},
   "outputs": [
    {
     "data": {
      "text/html": [
       "0.514513845254295"
      ],
      "text/latex": [
       "0.514513845254295"
      ],
      "text/markdown": [
       "0.514513845254295"
      ],
      "text/plain": [
       "[1] 0.5145138"
      ]
     },
     "metadata": {},
     "output_type": "display_data"
    }
   ],
   "source": [
    "# 4.4\n",
    "pbinom(0,100,0.00720,lower.tail=FALSE)"
   ]
  },
  {
   "cell_type": "code",
   "execution_count": 26,
   "id": "68cee794-e150-4af2-b12e-d989507370eb",
   "metadata": {},
   "outputs": [
    {
     "data": {
      "text/html": [
       "5"
      ],
      "text/latex": [
       "5"
      ],
      "text/markdown": [
       "5"
      ],
      "text/plain": [
       "[1] 5"
      ]
     },
     "metadata": {},
     "output_type": "display_data"
    },
    {
     "data": {
      "text/html": [
       "252"
      ],
      "text/latex": [
       "252"
      ],
      "text/markdown": [
       "252"
      ],
      "text/plain": [
       "[1] 252"
      ]
     },
     "metadata": {},
     "output_type": "display_data"
    },
    {
     "data": {
      "text/html": [
       "0.000454855287904086"
      ],
      "text/latex": [
       "0.000454855287904086"
      ],
      "text/markdown": [
       "0.000454855287904086"
      ],
      "text/plain": [
       "[1] 0.0004548553"
      ]
     },
     "metadata": {},
     "output_type": "display_data"
    },
    {
     "data": {
      "text/html": [
       "0.4232832"
      ],
      "text/latex": [
       "0.4232832"
      ],
      "text/markdown": [
       "0.4232832"
      ],
      "text/plain": [
       "[1] 0.4232832"
      ]
     },
     "metadata": {},
     "output_type": "display_data"
    },
    {
     "data": {
      "text/html": [
       "0.4232832"
      ],
      "text/latex": [
       "0.4232832"
      ],
      "text/markdown": [
       "0.4232832"
      ],
      "text/plain": [
       "[1] 0.4232832"
      ]
     },
     "metadata": {},
     "output_type": "display_data"
    },
    {
     "data": {
      "text/html": [
       "0.728794093538633"
      ],
      "text/latex": [
       "0.728794093538633"
      ],
      "text/markdown": [
       "0.728794093538633"
      ],
      "text/plain": [
       "[1] 0.7287941"
      ]
     },
     "metadata": {},
     "output_type": "display_data"
    }
   ],
   "source": [
    "# 4.6 exercise\n",
    "# (2)\n",
    "choose(5,1)\n",
    "# (3)\n",
    "choose(10,5)\n",
    "choose(10,5) * (4/52)^5 * (1-4/52)^(10-5)\n",
    "# (4)\n",
    "pbinom(1,7,1/5,lower.tail=FALSE)\n",
    "1 - choose(7,0)*(1/5)^0*(1-1/5)^(7-0) - choose(7,1)*(1/5)^1*(1-1/5)^(7-1)\n",
    "# (5)\n",
    "pbinom(1,25,1/10,lower.tail=FALSE)"
   ]
  },
  {
   "cell_type": "code",
   "execution_count": 2,
   "id": "a4dee53f-797b-4c01-b11c-79fdae098ba7",
   "metadata": {},
   "outputs": [
    {
     "data": {
      "text/html": [
       "0.0160253660942544"
      ],
      "text/latex": [
       "0.0160253660942544"
      ],
      "text/markdown": [
       "0.0160253660942544"
      ],
      "text/plain": [
       "[1] 0.01602537"
      ]
     },
     "metadata": {},
     "output_type": "display_data"
    },
    {
     "data": {
      "text/html": [
       "0.130470939031856"
      ],
      "text/latex": [
       "0.130470939031856"
      ],
      "text/markdown": [
       "0.130470939031856"
      ],
      "text/plain": [
       "[1] 0.1304709"
      ]
     },
     "metadata": {},
     "output_type": "display_data"
    },
    {
     "data": {
      "text/plain": [
       "0.9807613 with absolute error < 5.9e-06"
      ]
     },
     "metadata": {},
     "output_type": "display_data"
    },
    {
     "data": {
      "text/plain": [
       "0.2850559 with absolute error < 1e-04"
      ]
     },
     "metadata": {},
     "output_type": "display_data"
    },
    {
     "data": {
      "text/plain": [
       "0.09935258 with absolute error < 1.1e-15"
      ]
     },
     "metadata": {},
     "output_type": "display_data"
    },
    {
     "data": {
      "text/plain": [
       "0.30988 with absolute error < 3.4e-15"
      ]
     },
     "metadata": {},
     "output_type": "display_data"
    },
    {
     "data": {
      "text/plain": [
       "0.8589371 with absolute error < 9.5e-15"
      ]
     },
     "metadata": {},
     "output_type": "display_data"
    }
   ],
   "source": [
    "# 5\n",
    "# 5.1.3\n",
    "# B(k; n, p) = choose(n,k)*p^k*(1-p)^(n-k)\n",
    "n=41\n",
    "k=14\n",
    "p1=1/2\n",
    "p2=14/41\n",
    "choose(n,k)*(p1^k)*((1-p1)^(n-k))\n",
    "choose(n,k)*(p2^k)*((1-p2)^(n-k))\n",
    "# 5.2.3\n",
    "integrate(function(p) dbeta(p,14,27), 0,0.5)\n",
    "# help(\"integrate\")\n",
    "# help('dbeta')\n",
    "# 5.3\n",
    "integrate(function(x) dbeta(x,5,1195), 0.005,1)\n",
    "# 5.5 exercises\n",
    "# (1)\n",
    "integrate(function(p) dbeta(p,4,6), 0.6,1)\n",
    "# (2)\n",
    "integrate(function(p) dbeta(p,9,11), 0.45,0.55)\n",
    "# (3)\n",
    "integrate(function(p) dbeta(p,109,111), 0.45,0.55)"
   ]
  },
  {
   "cell_type": "code",
   "execution_count": 1,
   "id": "40341ae8-2eaa-44d0-883e-b9b04e4afca6",
   "metadata": {},
   "outputs": [
    {
     "data": {
      "text/html": [
       "0.4975"
      ],
      "text/latex": [
       "0.4975"
      ],
      "text/markdown": [
       "0.4975"
      ],
      "text/plain": [
       "[1] 0.4975"
      ]
     },
     "metadata": {},
     "output_type": "display_data"
    },
    {
     "data": {
      "text/html": [
       "0.0800276"
      ],
      "text/latex": [
       "0.0800276"
      ],
      "text/markdown": [
       "0.0800276"
      ],
      "text/plain": [
       "[1] 0.0800276"
      ]
     },
     "metadata": {},
     "output_type": "display_data"
    }
   ],
   "source": [
    "# 6\n",
    "# p(A|B) = p(A)*p(B|A) / p(B)\n",
    "# 6.5 exercises\n",
    "# (2)\n",
    "# p(A,B)=p(A)*p(B|A)\n",
    "p.female = 0.5 # p(female)\n",
    "p.colorblind_female = 0.005 # p(colorblind|female)\n",
    "p.female*(1-p.colorblind_female)\n",
    "# (3)\n",
    "# p(A or B)=p(A)+p(B)-p(A)*p(B|A)\n",
    "0.08+3/100000-0.08*3/100000"
   ]
  },
  {
   "cell_type": "code",
   "execution_count": 1,
   "id": "a393b731-bd1c-4274-82a6-127cc98d1ae1",
   "metadata": {},
   "outputs": [
    {
     "data": {
      "text/html": [
       "0.4"
      ],
      "text/latex": [
       "0.4"
      ],
      "text/markdown": [
       "0.4"
      ],
      "text/plain": [
       "[1] 0.4"
      ]
     },
     "metadata": {},
     "output_type": "display_data"
    },
    {
     "data": {
      "text/html": [
       "0.0769230769230769"
      ],
      "text/latex": [
       "0.0769230769230769"
      ],
      "text/markdown": [
       "0.0769230769230769"
      ],
      "text/plain": [
       "[1] 0.07692308"
      ]
     },
     "metadata": {},
     "output_type": "display_data"
    }
   ],
   "source": [
    "# 7\n",
    "# 7.4 exercises\n",
    "# (1)\n",
    "p.kansas=105/(105+114)\n",
    "p.metropolitan=(9+6)/(105+114)\n",
    "p.metropolitan_kansas=6/105\n",
    "p.kansas_metropolitan = p.metropolitan_kansas*p.kansas/p.metropolitan\n",
    "p.kansas_metropolitan\n",
    "# (2)\n",
    "p.ace=3/51\n",
    "p.black=(52/2)/(52-1)\n",
    "p.black_ace=2/3\n",
    "p.ace_black=p.black_ace*p.ace/p.black\n",
    "p.ace_black"
   ]
  },
  {
   "cell_type": "code",
   "execution_count": 1,
   "id": "0f327fee-69ef-498d-9040-dd3e99e28d3a",
   "metadata": {},
   "outputs": [
    {
     "data": {
      "text/plain": [
       "0.04256 with absolute error < 4.7e-16"
      ]
     },
     "metadata": {},
     "output_type": "display_data"
    },
    {
     "data": {
      "text/plain": [
       "0.9527469 with absolute error < 1.5e-11"
      ]
     },
     "metadata": {},
     "output_type": "display_data"
    },
    {
     "data": {
      "text/plain": [
       "0.9046876 with absolute error < 3.2e-11"
      ]
     },
     "metadata": {},
     "output_type": "display_data"
    }
   ],
   "source": [
    "# 9\n",
    "# 9.6 exercises\n",
    "# (1)\n",
    "alpha <- 6\n",
    "beta <- 7-6\n",
    "integrate(function(p) dbeta(p,alpha,beta), 0.4,0.6)\n",
    "# (2)\n",
    "alpha1 <- alpha + 55\n",
    "beta1 <- beta + 55\n",
    "integrate(function(p) dbeta(p,alpha1,beta1), 0.4,0.6)\n",
    "# (3)\n",
    "alpha2 <- alpha1+5\n",
    "integrate(function(p) dbeta(p,alpha2,beta1), 0.4,0.6)"
   ]
  },
  {
   "cell_type": "code",
   "execution_count": 29,
   "id": "58d54ddd-7252-45dd-b64e-3b0ff8e13959",
   "metadata": {},
   "outputs": [
    {
     "data": {
      "text/html": [
       "7"
      ],
      "text/latex": [
       "7"
      ],
      "text/markdown": [
       "7"
      ],
      "text/plain": [
       "[1] 7"
      ]
     },
     "metadata": {},
     "output_type": "display_data"
    },
    {
     "data": {
      "text/html": [
       "2.5"
      ],
      "text/latex": [
       "2.5"
      ],
      "text/markdown": [
       "2.5"
      ],
      "text/plain": [
       "[1] 2.5"
      ]
     },
     "metadata": {},
     "output_type": "display_data"
    },
    {
     "data": {
      "text/html": [
       "25"
      ],
      "text/latex": [
       "25"
      ],
      "text/markdown": [
       "25"
      ],
      "text/plain": [
       "[1] 25"
      ]
     },
     "metadata": {},
     "output_type": "display_data"
    },
    {
     "data": {
      "text/html": [
       "7"
      ],
      "text/latex": [
       "7"
      ],
      "text/markdown": [
       "7"
      ],
      "text/plain": [
       "[1] 7"
      ]
     },
     "metadata": {},
     "output_type": "display_data"
    },
    {
     "data": {
      "text/html": [
       "500"
      ],
      "text/latex": [
       "500"
      ],
      "text/markdown": [
       "500"
      ],
      "text/plain": [
       "[1] 500"
      ]
     },
     "metadata": {},
     "output_type": "display_data"
    },
    {
     "data": {
      "text/html": [
       "0.05"
      ],
      "text/latex": [
       "0.05"
      ],
      "text/markdown": [
       "0.05"
      ],
      "text/plain": [
       "[1] 0.05"
      ]
     },
     "metadata": {},
     "output_type": "display_data"
    },
    {
     "data": {
      "text/html": [
       "5e+20"
      ],
      "text/latex": [
       "5e+20"
      ],
      "text/markdown": [
       "5e+20"
      ],
      "text/plain": [
       "[1] 5e+20"
      ]
     },
     "metadata": {},
     "output_type": "display_data"
    },
    {
     "data": {
      "text/html": [
       "'hello'"
      ],
      "text/latex": [
       "'hello'"
      ],
      "text/markdown": [
       "'hello'"
      ],
      "text/plain": [
       "[1] \"hello\""
      ]
     },
     "metadata": {},
     "output_type": "display_data"
    },
    {
     "data": {
      "text/html": [
       "FALSE"
      ],
      "text/latex": [
       "FALSE"
      ],
      "text/markdown": [
       "FALSE"
      ],
      "text/plain": [
       "[1] FALSE"
      ]
     },
     "metadata": {},
     "output_type": "display_data"
    },
    {
     "data": {
      "text/html": [
       "TRUE"
      ],
      "text/latex": [
       "TRUE"
      ],
      "text/markdown": [
       "TRUE"
      ],
      "text/plain": [
       "[1] TRUE"
      ]
     },
     "metadata": {},
     "output_type": "display_data"
    },
    {
     "data": {
      "text/html": [
       "&lt;NA&gt;"
      ],
      "text/latex": [
       "<NA>"
      ],
      "text/markdown": [
       "&lt;NA&gt;"
      ],
      "text/plain": [
       "[1] NA"
      ]
     },
     "metadata": {},
     "output_type": "display_data"
    },
    {
     "data": {
      "text/html": [
       "<style>\n",
       ".list-inline {list-style: none; margin:0; padding: 0}\n",
       ".list-inline>li {display: inline-block}\n",
       ".list-inline>li:not(:last-child)::after {content: \"\\00b7\"; padding: 0 .5ex}\n",
       "</style>\n",
       "<ol class=list-inline><li>4</li><li>5</li><li>6</li></ol>\n"
      ],
      "text/latex": [
       "\\begin{enumerate*}\n",
       "\\item 4\n",
       "\\item 5\n",
       "\\item 6\n",
       "\\end{enumerate*}\n"
      ],
      "text/markdown": [
       "1. 4\n",
       "2. 5\n",
       "3. 6\n",
       "\n",
       "\n"
      ],
      "text/plain": [
       "[1] 4 5 6"
      ]
     },
     "metadata": {},
     "output_type": "display_data"
    },
    {
     "data": {
      "text/html": [
       "<style>\n",
       ".list-inline {list-style: none; margin:0; padding: 0}\n",
       ".list-inline>li {display: inline-block}\n",
       ".list-inline>li:not(:last-child)::after {content: \"\\00b7\"; padding: 0 .5ex}\n",
       "</style>\n",
       "<ol class=list-inline><li>3</li><li>4</li><li>5</li></ol>\n"
      ],
      "text/latex": [
       "\\begin{enumerate*}\n",
       "\\item 3\n",
       "\\item 4\n",
       "\\item 5\n",
       "\\end{enumerate*}\n"
      ],
      "text/markdown": [
       "1. 3\n",
       "2. 4\n",
       "3. 5\n",
       "\n",
       "\n"
      ],
      "text/plain": [
       "[1] 3 4 5"
      ]
     },
     "metadata": {},
     "output_type": "display_data"
    },
    {
     "data": {
      "text/html": [
       "<style>\n",
       ".list-inline {list-style: none; margin:0; padding: 0}\n",
       ".list-inline>li {display: inline-block}\n",
       ".list-inline>li:not(:last-child)::after {content: \"\\00b7\"; padding: 0 .5ex}\n",
       "</style>\n",
       "<ol class=list-inline><li>2</li><li>4</li><li>6</li></ol>\n"
      ],
      "text/latex": [
       "\\begin{enumerate*}\n",
       "\\item 2\n",
       "\\item 4\n",
       "\\item 6\n",
       "\\end{enumerate*}\n"
      ],
      "text/markdown": [
       "1. 2\n",
       "2. 4\n",
       "3. 6\n",
       "\n",
       "\n"
      ],
      "text/plain": [
       "[1] 2 4 6"
      ]
     },
     "metadata": {},
     "output_type": "display_data"
    },
    {
     "data": {
      "text/html": [
       "<style>\n",
       ".list-inline {list-style: none; margin:0; padding: 0}\n",
       ".list-inline>li {display: inline-block}\n",
       ".list-inline>li:not(:last-child)::after {content: \"\\00b7\"; padding: 0 .5ex}\n",
       "</style>\n",
       "<ol class=list-inline><li>1</li><li>2</li><li>3</li><li>2</li><li>2</li><li>2</li></ol>\n"
      ],
      "text/latex": [
       "\\begin{enumerate*}\n",
       "\\item 1\n",
       "\\item 2\n",
       "\\item 3\n",
       "\\item 2\n",
       "\\item 2\n",
       "\\item 2\n",
       "\\end{enumerate*}\n"
      ],
      "text/markdown": [
       "1. 1\n",
       "2. 2\n",
       "3. 3\n",
       "4. 2\n",
       "5. 2\n",
       "6. 2\n",
       "\n",
       "\n"
      ],
      "text/plain": [
       "[1] 1 2 3 2 2 2"
      ]
     },
     "metadata": {},
     "output_type": "display_data"
    }
   ],
   "source": [
    "# A. A quick introduction to R\n",
    "\n",
    "5 + 2\n",
    "5/2\n",
    "5^2\n",
    "5--2\n",
    "5e+2\n",
    "5e-2\n",
    "5*10^20\n",
    "\"hello\"\n",
    "TRUE&FALSE\n",
    "TRUE|FALSE\n",
    "NA+2\n",
    "\n",
    "# vectors\n",
    "x<-c(1,2,3)\n",
    "x+3\n",
    "y<-c(2,2,2)\n",
    "x+y\n",
    "x*y\n",
    "z<-c(x,y)\n",
    "z\n"
   ]
  },
  {
   "cell_type": "code",
   "execution_count": 1,
   "id": "e0d9beda-0a89-48f5-8dfa-5d7f1aa28978",
   "metadata": {},
   "outputs": [
    {
     "data": {
      "text/html": [
       "3"
      ],
      "text/latex": [
       "3"
      ],
      "text/markdown": [
       "3"
      ],
      "text/plain": [
       "[1] 3"
      ]
     },
     "metadata": {},
     "output_type": "display_data"
    },
    {
     "data": {
      "text/html": [
       "1"
      ],
      "text/latex": [
       "1"
      ],
      "text/markdown": [
       "1"
      ],
      "text/plain": [
       "[1] 1"
      ]
     },
     "metadata": {},
     "output_type": "display_data"
    },
    {
     "data": {
      "text/html": [
       "2"
      ],
      "text/latex": [
       "2"
      ],
      "text/markdown": [
       "2"
      ],
      "text/plain": [
       "[1] 2"
      ]
     },
     "metadata": {},
     "output_type": "display_data"
    },
    {
     "data": {
      "text/html": [
       "7"
      ],
      "text/latex": [
       "7"
      ],
      "text/markdown": [
       "7"
      ],
      "text/plain": [
       "[1] 7"
      ]
     },
     "metadata": {},
     "output_type": "display_data"
    },
    {
     "data": {
      "text/html": [
       "<style>\n",
       ".list-inline {list-style: none; margin:0; padding: 0}\n",
       ".list-inline>li {display: inline-block}\n",
       ".list-inline>li:not(:last-child)::after {content: \"\\00b7\"; padding: 0 .5ex}\n",
       "</style>\n",
       "<ol class=list-inline><li>7</li><li>4</li></ol>\n"
      ],
      "text/latex": [
       "\\begin{enumerate*}\n",
       "\\item 7\n",
       "\\item 4\n",
       "\\end{enumerate*}\n"
      ],
      "text/markdown": [
       "1. 7\n",
       "2. 4\n",
       "\n",
       "\n"
      ],
      "text/plain": [
       "[1] 7 4"
      ]
     },
     "metadata": {},
     "output_type": "display_data"
    },
    {
     "data": {
      "text/html": [
       "4"
      ],
      "text/latex": [
       "4"
      ],
      "text/markdown": [
       "4"
      ],
      "text/plain": [
       "[1] 4"
      ]
     },
     "metadata": {},
     "output_type": "display_data"
    },
    {
     "data": {
      "text/html": [
       "6"
      ],
      "text/latex": [
       "6"
      ],
      "text/markdown": [
       "6"
      ],
      "text/plain": [
       "[1] 6"
      ]
     },
     "metadata": {},
     "output_type": "display_data"
    },
    {
     "data": {
      "text/html": [
       "&lt;NA&gt;"
      ],
      "text/latex": [
       "<NA>"
      ],
      "text/markdown": [
       "&lt;NA&gt;"
      ],
      "text/plain": [
       "[1] NA"
      ]
     },
     "metadata": {},
     "output_type": "display_data"
    },
    {
     "data": {
      "text/html": [
       "4"
      ],
      "text/latex": [
       "4"
      ],
      "text/markdown": [
       "4"
      ],
      "text/plain": [
       "[1] 4"
      ]
     },
     "metadata": {},
     "output_type": "display_data"
    },
    {
     "data": {
      "text/html": [
       "<style>\n",
       ".list-inline {list-style: none; margin:0; padding: 0}\n",
       ".list-inline>li {display: inline-block}\n",
       ".list-inline>li:not(:last-child)::after {content: \"\\00b7\"; padding: 0 .5ex}\n",
       "</style>\n",
       "<ol class=list-inline><li>1</li><li>2</li><li>3</li><li>4</li></ol>\n"
      ],
      "text/latex": [
       "\\begin{enumerate*}\n",
       "\\item 1\n",
       "\\item 2\n",
       "\\item 3\n",
       "\\item 4\n",
       "\\end{enumerate*}\n"
      ],
      "text/markdown": [
       "1. 1\n",
       "2. 2\n",
       "3. 3\n",
       "4. 4\n",
       "\n",
       "\n"
      ],
      "text/plain": [
       "[1] 1 2 3 4"
      ]
     },
     "metadata": {},
     "output_type": "display_data"
    },
    {
     "data": {
      "text/html": [
       "<style>\n",
       ".list-inline {list-style: none; margin:0; padding: 0}\n",
       ".list-inline>li {display: inline-block}\n",
       ".list-inline>li:not(:last-child)::after {content: \"\\00b7\"; padding: 0 .5ex}\n",
       "</style>\n",
       "<ol class=list-inline><li>2</li><li>12</li><li>32</li></ol>\n"
      ],
      "text/latex": [
       "\\begin{enumerate*}\n",
       "\\item 2\n",
       "\\item 12\n",
       "\\item 32\n",
       "\\end{enumerate*}\n"
      ],
      "text/markdown": [
       "1. 2\n",
       "2. 12\n",
       "3. 32\n",
       "\n",
       "\n"
      ],
      "text/plain": [
       "[1]  2 12 32"
      ]
     },
     "metadata": {},
     "output_type": "display_data"
    },
    {
     "data": {
      "text/html": [
       "<style>\n",
       ".list-inline {list-style: none; margin:0; padding: 0}\n",
       ".list-inline>li {display: inline-block}\n",
       ".list-inline>li:not(:last-child)::after {content: \"\\00b7\"; padding: 0 .5ex}\n",
       "</style>\n",
       "<ol class=list-inline><li>1</li><li>1</li><li>1</li><li>1</li></ol>\n"
      ],
      "text/latex": [
       "\\begin{enumerate*}\n",
       "\\item 1\n",
       "\\item 1\n",
       "\\item 1\n",
       "\\item 1\n",
       "\\end{enumerate*}\n"
      ],
      "text/markdown": [
       "1. 1\n",
       "2. 1\n",
       "3. 1\n",
       "4. 1\n",
       "\n",
       "\n"
      ],
      "text/plain": [
       "[1] 1 1 1 1"
      ]
     },
     "metadata": {},
     "output_type": "display_data"
    },
    {
     "data": {
      "text/html": [
       "<style>\n",
       ".list-inline {list-style: none; margin:0; padding: 0}\n",
       ".list-inline>li {display: inline-block}\n",
       ".list-inline>li:not(:last-child)::after {content: \"\\00b7\"; padding: 0 .5ex}\n",
       "</style>\n",
       "<ol class=list-inline><li>8</li><li>-7</li></ol>\n"
      ],
      "text/latex": [
       "\\begin{enumerate*}\n",
       "\\item 8\n",
       "\\item -7\n",
       "\\end{enumerate*}\n"
      ],
      "text/markdown": [
       "1. 8\n",
       "2. -7\n",
       "\n",
       "\n"
      ],
      "text/plain": [
       "[1]  8 -7"
      ]
     },
     "metadata": {},
     "output_type": "display_data"
    },
    {
     "data": {
      "text/html": [
       "<style>\n",
       ".list-inline {list-style: none; margin:0; padding: 0}\n",
       ".list-inline>li {display: inline-block}\n",
       ".list-inline>li:not(:last-child)::after {content: \"\\00b7\"; padding: 0 .5ex}\n",
       "</style>\n",
       "<ol class=list-inline><li>1</li><li>2</li><li>3</li><li>4</li><li>5</li></ol>\n"
      ],
      "text/latex": [
       "\\begin{enumerate*}\n",
       "\\item 1\n",
       "\\item 2\n",
       "\\item 3\n",
       "\\item 4\n",
       "\\item 5\n",
       "\\end{enumerate*}\n"
      ],
      "text/markdown": [
       "1. 1\n",
       "2. 2\n",
       "3. 3\n",
       "4. 4\n",
       "5. 5\n",
       "\n",
       "\n"
      ],
      "text/plain": [
       "[1] 1 2 3 4 5"
      ]
     },
     "metadata": {},
     "output_type": "display_data"
    },
    {
     "data": {
      "text/html": [
       "<style>\n",
       ".list-inline {list-style: none; margin:0; padding: 0}\n",
       ".list-inline>li {display: inline-block}\n",
       ".list-inline>li:not(:last-child)::after {content: \"\\00b7\"; padding: 0 .5ex}\n",
       "</style>\n",
       "<ol class=list-inline><li>5</li><li>4</li><li>3</li><li>2</li><li>1</li></ol>\n"
      ],
      "text/latex": [
       "\\begin{enumerate*}\n",
       "\\item 5\n",
       "\\item 4\n",
       "\\item 3\n",
       "\\item 2\n",
       "\\item 1\n",
       "\\end{enumerate*}\n"
      ],
      "text/markdown": [
       "1. 5\n",
       "2. 4\n",
       "3. 3\n",
       "4. 2\n",
       "5. 1\n",
       "\n",
       "\n"
      ],
      "text/plain": [
       "[1] 5 4 3 2 1"
      ]
     },
     "metadata": {},
     "output_type": "display_data"
    },
    {
     "data": {
      "text/html": [
       "<style>\n",
       ".list-inline {list-style: none; margin:0; padding: 0}\n",
       ".list-inline>li {display: inline-block}\n",
       ".list-inline>li:not(:last-child)::after {content: \"\\00b7\"; padding: 0 .5ex}\n",
       "</style>\n",
       "<ol class=list-inline><li>1</li><li>1.3</li><li>1.6</li><li>1.9</li></ol>\n"
      ],
      "text/latex": [
       "\\begin{enumerate*}\n",
       "\\item 1\n",
       "\\item 1.3\n",
       "\\item 1.6\n",
       "\\item 1.9\n",
       "\\end{enumerate*}\n"
      ],
      "text/markdown": [
       "1. 1\n",
       "2. 1.3\n",
       "3. 1.6\n",
       "4. 1.9\n",
       "\n",
       "\n"
      ],
      "text/plain": [
       "[1] 1.0 1.3 1.6 1.9"
      ]
     },
     "metadata": {},
     "output_type": "display_data"
    },
    {
     "data": {
      "text/html": [
       "<style>\n",
       ".list-inline {list-style: none; margin:0; padding: 0}\n",
       ".list-inline>li {display: inline-block}\n",
       ".list-inline>li:not(:last-child)::after {content: \"\\00b7\"; padding: 0 .5ex}\n",
       "</style>\n",
       "<ol class=list-inline><li>2</li><li>4</li><li>6</li><li>8</li><li>10</li><li>12</li><li>14</li><li>16</li><li>18</li><li>20</li></ol>\n"
      ],
      "text/latex": [
       "\\begin{enumerate*}\n",
       "\\item 2\n",
       "\\item 4\n",
       "\\item 6\n",
       "\\item 8\n",
       "\\item 10\n",
       "\\item 12\n",
       "\\item 14\n",
       "\\item 16\n",
       "\\item 18\n",
       "\\item 20\n",
       "\\end{enumerate*}\n"
      ],
      "text/markdown": [
       "1. 2\n",
       "2. 4\n",
       "3. 6\n",
       "4. 8\n",
       "5. 10\n",
       "6. 12\n",
       "7. 14\n",
       "8. 16\n",
       "9. 18\n",
       "10. 20\n",
       "\n",
       "\n"
      ],
      "text/plain": [
       " [1]  2  4  6  8 10 12 14 16 18 20"
      ]
     },
     "metadata": {},
     "output_type": "display_data"
    },
    {
     "data": {
      "text/html": [
       "<style>\n",
       ".list-inline {list-style: none; margin:0; padding: 0}\n",
       ".list-inline>li {display: inline-block}\n",
       ".list-inline>li:not(:last-child)::after {content: \"\\00b7\"; padding: 0 .5ex}\n",
       "</style>\n",
       "<ol class=list-inline><li>10</li><li>9</li><li>8</li><li>7</li><li>6</li><li>5</li></ol>\n"
      ],
      "text/latex": [
       "\\begin{enumerate*}\n",
       "\\item 10\n",
       "\\item 9\n",
       "\\item 8\n",
       "\\item 7\n",
       "\\item 6\n",
       "\\item 5\n",
       "\\end{enumerate*}\n"
      ],
      "text/markdown": [
       "1. 10\n",
       "2. 9\n",
       "3. 8\n",
       "4. 7\n",
       "5. 6\n",
       "6. 5\n",
       "\n",
       "\n"
      ],
      "text/plain": [
       "[1] 10  9  8  7  6  5"
      ]
     },
     "metadata": {},
     "output_type": "display_data"
    },
    {
     "data": {
      "text/html": [
       "'small'"
      ],
      "text/latex": [
       "'small'"
      ],
      "text/markdown": [
       "'small'"
      ],
      "text/plain": [
       "[1] \"small\""
      ]
     },
     "metadata": {},
     "output_type": "display_data"
    },
    {
     "data": {
      "text/html": [
       "<style>\n",
       ".list-inline {list-style: none; margin:0; padding: 0}\n",
       ".list-inline>li {display: inline-block}\n",
       ".list-inline>li:not(:last-child)::after {content: \"\\00b7\"; padding: 0 .5ex}\n",
       "</style>\n",
       "<ol class=list-inline><li>'small'</li><li>'small'</li><li>'big'</li></ol>\n"
      ],
      "text/latex": [
       "\\begin{enumerate*}\n",
       "\\item 'small'\n",
       "\\item 'small'\n",
       "\\item 'big'\n",
       "\\end{enumerate*}\n"
      ],
      "text/markdown": [
       "1. 'small'\n",
       "2. 'small'\n",
       "3. 'big'\n",
       "\n",
       "\n"
      ],
      "text/plain": [
       "[1] \"small\" \"small\" \"big\"  "
      ]
     },
     "metadata": {},
     "output_type": "display_data"
    }
   ],
   "source": [
    "# functions\n",
    "#?sum\n",
    "length(c(1,2,3))\n",
    "length(\"doggies\")\n",
    "length(c(\"doggies\",\"cats\"))\n",
    "nchar(\"doggies\")\n",
    "nchar(c(\"doggies\",\"cats\"))\n",
    "sum(c(1,1,1,1))\n",
    "sum(c(2,3),1)\n",
    "sum(1,NA,3)\n",
    "sum(1,NA,3,na.rm=TRUE)\n",
    "cumsum(c(1,1,1,1))\n",
    "cumsum(c(2,10,20))\n",
    "diff(c(1,2,3,4,5))\n",
    "diff(c(2,10,3))\n",
    "c(1:5)\n",
    "c(5:1)\n",
    "seq(1,2,0.3)\n",
    "seq(2,20,2)\n",
    "seq(10,5,-1)\n",
    "\n",
    "ifelse(2<3,\"small\",\"big\")\n",
    "x <- c(1,2,3)\n",
    "ifelse(x<3,'small','big')"
   ]
  },
  {
   "cell_type": "code",
   "execution_count": 15,
   "id": "e24c4fae-dcc9-4fb5-8209-cebfeffe45f7",
   "metadata": {},
   "outputs": [
    {
     "data": {
      "text/html": [
       "<style>\n",
       ".list-inline {list-style: none; margin:0; padding: 0}\n",
       ".list-inline>li {display: inline-block}\n",
       ".list-inline>li:not(:last-child)::after {content: \"\\00b7\"; padding: 0 .5ex}\n",
       "</style>\n",
       "<ol class=list-inline><li>0.331317453412339</li><li>0.947630023118109</li><li>0.281117310514674</li><li>0.245404046494514</li><li>0.146043621003628</li></ol>\n"
      ],
      "text/latex": [
       "\\begin{enumerate*}\n",
       "\\item 0.331317453412339\n",
       "\\item 0.947630023118109\n",
       "\\item 0.281117310514674\n",
       "\\item 0.245404046494514\n",
       "\\item 0.146043621003628\n",
       "\\end{enumerate*}\n"
      ],
      "text/markdown": [
       "1. 0.331317453412339\n",
       "2. 0.947630023118109\n",
       "3. 0.281117310514674\n",
       "4. 0.245404046494514\n",
       "5. 0.146043621003628\n",
       "\n",
       "\n"
      ],
      "text/plain": [
       "[1] 0.3313175 0.9476300 0.2811173 0.2454040 0.1460436"
      ]
     },
     "metadata": {},
     "output_type": "display_data"
    },
    {
     "data": {
      "text/html": [
       "<style>\n",
       ".list-inline {list-style: none; margin:0; padding: 0}\n",
       ".list-inline>li {display: inline-block}\n",
       ".list-inline>li:not(:last-child)::after {content: \"\\00b7\"; padding: 0 .5ex}\n",
       "</style>\n",
       "<ol class=list-inline><li>'tail'</li><li>'tail'</li><li>'tail'</li><li>'head'</li><li>'tail'</li></ol>\n"
      ],
      "text/latex": [
       "\\begin{enumerate*}\n",
       "\\item 'tail'\n",
       "\\item 'tail'\n",
       "\\item 'tail'\n",
       "\\item 'head'\n",
       "\\item 'tail'\n",
       "\\end{enumerate*}\n"
      ],
      "text/markdown": [
       "1. 'tail'\n",
       "2. 'tail'\n",
       "3. 'tail'\n",
       "4. 'head'\n",
       "5. 'tail'\n",
       "\n",
       "\n"
      ],
      "text/plain": [
       "[1] \"tail\" \"tail\" \"tail\" \"head\" \"tail\""
      ]
     },
     "metadata": {},
     "output_type": "display_data"
    },
    {
     "data": {
      "text/html": [
       "<style>\n",
       ".list-inline {list-style: none; margin:0; padding: 0}\n",
       ".list-inline>li {display: inline-block}\n",
       ".list-inline>li:not(:last-child)::after {content: \"\\00b7\"; padding: 0 .5ex}\n",
       "</style>\n",
       "<ol class=list-inline><li>'head'</li><li>'tail'</li><li>'tail'</li><li>'head'</li><li>'head'</li></ol>\n"
      ],
      "text/latex": [
       "\\begin{enumerate*}\n",
       "\\item 'head'\n",
       "\\item 'tail'\n",
       "\\item 'tail'\n",
       "\\item 'head'\n",
       "\\item 'head'\n",
       "\\end{enumerate*}\n"
      ],
      "text/markdown": [
       "1. 'head'\n",
       "2. 'tail'\n",
       "3. 'tail'\n",
       "4. 'head'\n",
       "5. 'head'\n",
       "\n",
       "\n"
      ],
      "text/plain": [
       "[1] \"head\" \"tail\" \"tail\" \"head\" \"head\""
      ]
     },
     "metadata": {},
     "output_type": "display_data"
    },
    {
     "data": {
      "text/html": [
       "<style>\n",
       ".list-inline {list-style: none; margin:0; padding: 0}\n",
       ".list-inline>li {display: inline-block}\n",
       ".list-inline>li:not(:last-child)::after {content: \"\\00b7\"; padding: 0 .5ex}\n",
       "</style>\n",
       "<ol class=list-inline><li>184.916376555339</li><li>172.408821457066</li><li>104.661798384041</li><li>115.367815946229</li><li>156.259417301044</li></ol>\n"
      ],
      "text/latex": [
       "\\begin{enumerate*}\n",
       "\\item 184.916376555339\n",
       "\\item 172.408821457066\n",
       "\\item 104.661798384041\n",
       "\\item 115.367815946229\n",
       "\\item 156.259417301044\n",
       "\\end{enumerate*}\n"
      ],
      "text/markdown": [
       "1. 184.916376555339\n",
       "2. 172.408821457066\n",
       "3. 104.661798384041\n",
       "4. 115.367815946229\n",
       "5. 156.259417301044\n",
       "\n",
       "\n"
      ],
      "text/plain": [
       "[1] 184.9164 172.4088 104.6618 115.3678 156.2594"
      ]
     },
     "metadata": {},
     "output_type": "display_data"
    },
    {
     "data": {
      "text/html": [
       "<style>\n",
       ".list-inline {list-style: none; margin:0; padding: 0}\n",
       ".list-inline>li {display: inline-block}\n",
       ".list-inline>li:not(:last-child)::after {content: \"\\00b7\"; padding: 0 .5ex}\n",
       "</style>\n",
       "<ol class=list-inline><li>2.08412706502743</li><li>1.27369901142434</li><li>2.57639059338727</li></ol>\n"
      ],
      "text/latex": [
       "\\begin{enumerate*}\n",
       "\\item 2.08412706502743\n",
       "\\item 1.27369901142434\n",
       "\\item 2.57639059338727\n",
       "\\end{enumerate*}\n"
      ],
      "text/markdown": [
       "1. 2.08412706502743\n",
       "2. 1.27369901142434\n",
       "3. 2.57639059338727\n",
       "\n",
       "\n"
      ],
      "text/plain": [
       "[1] 2.084127 1.273699 2.576391"
      ]
     },
     "metadata": {},
     "output_type": "display_data"
    },
    {
     "data": {
      "text/html": [
       "<style>\n",
       ".list-inline {list-style: none; margin:0; padding: 0}\n",
       ".list-inline>li {display: inline-block}\n",
       ".list-inline>li:not(:last-child)::after {content: \"\\00b7\"; padding: 0 .5ex}\n",
       "</style>\n",
       "<ol class=list-inline><li>-10.7238762538526</li><li>-5.41746307573424</li><li>5.6309327100504</li><li>8.62897129455183</li></ol>\n"
      ],
      "text/latex": [
       "\\begin{enumerate*}\n",
       "\\item -10.7238762538526\n",
       "\\item -5.41746307573424\n",
       "\\item 5.6309327100504\n",
       "\\item 8.62897129455183\n",
       "\\end{enumerate*}\n"
      ],
      "text/markdown": [
       "1. -10.7238762538526\n",
       "2. -5.41746307573424\n",
       "3. 5.6309327100504\n",
       "4. 8.62897129455183\n",
       "\n",
       "\n"
      ],
      "text/plain": [
       "[1] -10.723876  -5.417463   5.630933   8.628971"
      ]
     },
     "metadata": {},
     "output_type": "display_data"
    },
    {
     "data": {
      "text/html": [
       "<style>\n",
       ".list-inline {list-style: none; margin:0; padding: 0}\n",
       ".list-inline>li {display: inline-block}\n",
       ".list-inline>li:not(:last-child)::after {content: \"\\00b7\"; padding: 0 .5ex}\n",
       "</style>\n",
       "<ol class=list-inline><li>'red'</li><li>'white'</li></ol>\n"
      ],
      "text/latex": [
       "\\begin{enumerate*}\n",
       "\\item 'red'\n",
       "\\item 'white'\n",
       "\\end{enumerate*}\n"
      ],
      "text/markdown": [
       "1. 'red'\n",
       "2. 'white'\n",
       "\n",
       "\n"
      ],
      "text/plain": [
       "[1] \"red\"   \"white\""
      ]
     },
     "metadata": {},
     "output_type": "display_data"
    },
    {
     "data": {
      "text/html": [
       "<style>\n",
       ".list-inline {list-style: none; margin:0; padding: 0}\n",
       ".list-inline>li {display: inline-block}\n",
       ".list-inline>li:not(:last-child)::after {content: \"\\00b7\"; padding: 0 .5ex}\n",
       "</style>\n",
       "<ol class=list-inline><li>'white'</li><li>'red'</li><li>'gray'</li><li>'black'</li><li>'red'</li></ol>\n"
      ],
      "text/latex": [
       "\\begin{enumerate*}\n",
       "\\item 'white'\n",
       "\\item 'red'\n",
       "\\item 'gray'\n",
       "\\item 'black'\n",
       "\\item 'red'\n",
       "\\end{enumerate*}\n"
      ],
      "text/markdown": [
       "1. 'white'\n",
       "2. 'red'\n",
       "3. 'gray'\n",
       "4. 'black'\n",
       "5. 'red'\n",
       "\n",
       "\n"
      ],
      "text/plain": [
       "[1] \"white\" \"red\"   \"gray\"  \"black\" \"red\"  "
      ]
     },
     "metadata": {},
     "output_type": "display_data"
    },
    {
     "data": {
      "text/html": [
       "<style>\n",
       ".list-inline {list-style: none; margin:0; padding: 0}\n",
       ".list-inline>li {display: inline-block}\n",
       ".list-inline>li:not(:last-child)::after {content: \"\\00b7\"; padding: 0 .5ex}\n",
       "</style>\n",
       "<ol class=list-inline><li>'black'</li><li>'black'</li><li>'white'</li><li>'red'</li><li>'black'</li><li>'white'</li></ol>\n"
      ],
      "text/latex": [
       "\\begin{enumerate*}\n",
       "\\item 'black'\n",
       "\\item 'black'\n",
       "\\item 'white'\n",
       "\\item 'red'\n",
       "\\item 'black'\n",
       "\\item 'white'\n",
       "\\end{enumerate*}\n"
      ],
      "text/markdown": [
       "1. 'black'\n",
       "2. 'black'\n",
       "3. 'white'\n",
       "4. 'red'\n",
       "5. 'black'\n",
       "6. 'white'\n",
       "\n",
       "\n"
      ],
      "text/plain": [
       "[1] \"black\" \"black\" \"white\" \"red\"   \"black\" \"white\""
      ]
     },
     "metadata": {},
     "output_type": "display_data"
    },
    {
     "data": {
      "text/html": [
       "<style>\n",
       ".list-inline {list-style: none; margin:0; padding: 0}\n",
       ".list-inline>li {display: inline-block}\n",
       ".list-inline>li:not(:last-child)::after {content: \"\\00b7\"; padding: 0 .5ex}\n",
       "</style>\n",
       "<ol class=list-inline><li>'B'</li><li>'B'</li><li>'A'</li><li>'B'</li><li>'B'</li></ol>\n"
      ],
      "text/latex": [
       "\\begin{enumerate*}\n",
       "\\item 'B'\n",
       "\\item 'B'\n",
       "\\item 'A'\n",
       "\\item 'B'\n",
       "\\item 'B'\n",
       "\\end{enumerate*}\n"
      ],
      "text/markdown": [
       "1. 'B'\n",
       "2. 'B'\n",
       "3. 'A'\n",
       "4. 'B'\n",
       "5. 'B'\n",
       "\n",
       "\n"
      ],
      "text/plain": [
       "[1] \"B\" \"B\" \"A\" \"B\" \"B\""
      ]
     },
     "metadata": {},
     "output_type": "display_data"
    },
    {
     "data": {
      "text/html": [
       "<style>\n",
       ".list-inline {list-style: none; margin:0; padding: 0}\n",
       ".list-inline>li {display: inline-block}\n",
       ".list-inline>li:not(:last-child)::after {content: \"\\00b7\"; padding: 0 .5ex}\n",
       "</style>\n",
       "<ol class=list-inline><li>'B'</li><li>'B'</li><li>'A'</li><li>'B'</li><li>'B'</li></ol>\n"
      ],
      "text/latex": [
       "\\begin{enumerate*}\n",
       "\\item 'B'\n",
       "\\item 'B'\n",
       "\\item 'A'\n",
       "\\item 'B'\n",
       "\\item 'B'\n",
       "\\end{enumerate*}\n"
      ],
      "text/markdown": [
       "1. 'B'\n",
       "2. 'B'\n",
       "3. 'A'\n",
       "4. 'B'\n",
       "5. 'B'\n",
       "\n",
       "\n"
      ],
      "text/plain": [
       "[1] \"B\" \"B\" \"A\" \"B\" \"B\""
      ]
     },
     "metadata": {},
     "output_type": "display_data"
    }
   ],
   "source": [
    "# Random Sampling\n",
    "runif(5)\n",
    "ifelse(runif(5)<0.5,'head','tail')\n",
    "ifelse(runif(5)<0.5,'head','tail')\n",
    "runif(5,100,200)\n",
    "\n",
    "rnorm(3)\n",
    "rnorm(4,mean=2,sd=10)\n",
    "\n",
    "socks <- c('red','gray','white','red','black')\n",
    "sample(socks,2)\n",
    "sample(socks,5)\n",
    "sample(socks,6,replace=TRUE)\n",
    "\n",
    "set.seed(1337)\n",
    "ifelse(runif(5)<0.2,'A','B')\n",
    "set.seed(1337)\n",
    "ifelse(runif(5)<0.2,'A','B')"
   ]
  },
  {
   "cell_type": "code",
   "execution_count": 22,
   "id": "0b953f54-4ddd-407a-86a2-2dfc14eb0a61",
   "metadata": {},
   "outputs": [
    {
     "data": {
      "text/html": [
       "4096"
      ],
      "text/latex": [
       "4096"
      ],
      "text/markdown": [
       "4096"
      ],
      "text/plain": [
       "[1] 4096"
      ]
     },
     "metadata": {},
     "output_type": "display_data"
    },
    {
     "data": {
      "text/html": [
       "<style>\n",
       ".list-inline {list-style: none; margin:0; padding: 0}\n",
       ".list-inline>li {display: inline-block}\n",
       ".list-inline>li:not(:last-child)::after {content: \"\\00b7\"; padding: 0 .5ex}\n",
       "</style>\n",
       "<ol class=list-inline><li>8</li><li>64</li><li>216</li></ol>\n"
      ],
      "text/latex": [
       "\\begin{enumerate*}\n",
       "\\item 8\n",
       "\\item 64\n",
       "\\item 216\n",
       "\\end{enumerate*}\n"
      ],
      "text/markdown": [
       "1. 8\n",
       "2. 64\n",
       "3. 216\n",
       "\n",
       "\n"
      ],
      "text/plain": [
       "[1]   8  64 216"
      ]
     },
     "metadata": {},
     "output_type": "display_data"
    },
    {
     "data": {
      "text/html": [
       "25"
      ],
      "text/latex": [
       "25"
      ],
      "text/markdown": [
       "25"
      ],
      "text/plain": [
       "[1] 25"
      ]
     },
     "metadata": {},
     "output_type": "display_data"
    },
    {
     "data": {
      "text/html": [
       "<style>\n",
       ".list-inline {list-style: none; margin:0; padding: 0}\n",
       ".list-inline>li {display: inline-block}\n",
       ".list-inline>li:not(:last-child)::after {content: \"\\00b7\"; padding: 0 .5ex}\n",
       "</style>\n",
       "<ol class=list-inline><li>36</li><li>25</li></ol>\n"
      ],
      "text/latex": [
       "\\begin{enumerate*}\n",
       "\\item 36\n",
       "\\item 25\n",
       "\\end{enumerate*}\n"
      ],
      "text/markdown": [
       "1. 36\n",
       "2. 25\n",
       "\n",
       "\n"
      ],
      "text/plain": [
       "[1] 36 25"
      ]
     },
     "metadata": {},
     "output_type": "display_data"
    },
    {
     "data": {
      "text/html": [
       "<style>\n",
       ".list-inline {list-style: none; margin:0; padding: 0}\n",
       ".list-inline>li {display: inline-block}\n",
       ".list-inline>li:not(:last-child)::after {content: \"\\00b7\"; padding: 0 .5ex}\n",
       "</style>\n",
       "<ol class=list-inline><li>9</li><li>25</li></ol>\n"
      ],
      "text/latex": [
       "\\begin{enumerate*}\n",
       "\\item 9\n",
       "\\item 25\n",
       "\\end{enumerate*}\n"
      ],
      "text/markdown": [
       "1. 9\n",
       "2. 25\n",
       "\n",
       "\n"
      ],
      "text/plain": [
       "[1]  9 25"
      ]
     },
     "metadata": {},
     "output_type": "display_data"
    }
   ],
   "source": [
    "# Defining your own function\n",
    "double_then_cube <- function(val){\n",
    "    (val*2)^3\n",
    "    }\n",
    "double_then_cube(8)\n",
    "double_then_cube(c(1,2,3))\n",
    "sum_then_square <- function(x,y){\n",
    "    (x+y)^2\n",
    "    }\n",
    "sum_then_square(2,3)\n",
    "sum_then_square(c(1,2),c(5,3))\n",
    "sum_then_square <- function(x,y){\n",
    "    sum_of_args <- x+y\n",
    "    square_of_result <- sum_of_args^2\n",
    "    square_of_result\n",
    "    }\n",
    "sum_then_square(2,c(1,3))"
   ]
  },
  {
   "cell_type": "code",
   "execution_count": 29,
   "id": "c6c355b2-35e9-4eb6-9d4f-a8d0ae5edc64",
   "metadata": {},
   "outputs": [
    {
     "data": {
      "image/png": "[encoded data removed]",
      "text/plain": [
       "plot without title"
      ]
     },
     "metadata": {
      "image/png": {
       "height": 420,
       "width": 420
      }
     },
     "output_type": "display_data"
    },
    {
     "data": {
      "image/png": "[encoded data removed]",
      "text/plain": [
       "Plot with title \"example plot\""
      ]
     },
     "metadata": {
      "image/png": {
       "height": 420,
       "width": 420
      }
     },
     "output_type": "display_data"
    },
    {
     "data": {
      "image/png": "[encoded data removed]",
      "text/plain": [
       "plot without title"
      ]
     },
     "metadata": {
      "image/png": {
       "height": 420,
       "width": 420
      }
     },
     "output_type": "display_data"
    },
    {
     "data": {
      "image/png": "[encoded data removed]",
      "text/plain": [
       "plot without title"
      ]
     },
     "metadata": {
      "image/png": {
       "height": 420,
       "width": 420
      }
     },
     "output_type": "display_data"
    }
   ],
   "source": [
    "# Creating basic plots\n",
    "xs<-c(1:5)\n",
    "ys<-c(2,3,2,4,6)\n",
    "plot(xs,ys)\n",
    "plot(xs,ys,\n",
    "     main='example plot',\n",
    "     xlab='x values',\n",
    "     ylab='y values'\n",
    "     )\n",
    "plot(xs,ys,\n",
    "     type='l'\n",
    "     )\n",
    "plot(xs,ys)\n",
    "lines(xs,ys)"
   ]
  },
  {
   "cell_type": "code",
   "execution_count": 53,
   "id": "0332a012-c5b9-43e4-bd3a-7178ceb7d037",
   "metadata": {},
   "outputs": [
    {
     "data": {
      "text/html": [
       "<style>\n",
       ".list-inline {list-style: none; margin:0; padding: 0}\n",
       ".list-inline>li {display: inline-block}\n",
       ".list-inline>li:not(:last-child)::after {content: \"\\00b7\"; padding: 0 .5ex}\n",
       "</style>\n",
       "<ol class=list-inline><li>10.3322575591463</li><li>15.8817552941849</li><li>27.9263716099541</li><li>40.2110336449879</li><li>33.2573831291792</li><li>30.6385818571567</li><li>13.8802025103851</li><li>33.4302842195876</li><li>31.7068829158395</li><li>28.4926512887971</li><li>26.1778402869322</li><li>40.244912147711</li><li>40.8129409483586</li><li>54.1336151185545</li><li>69.6356255927539</li><li>65.4578588041159</li><li>78.2435980973962</li><li>74.5667999694466</li><li>79.5747893632234</li><li>84.9411757636132</li></ol>\n"
      ],
      "text/latex": [
       "\\begin{enumerate*}\n",
       "\\item 10.3322575591463\n",
       "\\item 15.8817552941849\n",
       "\\item 27.9263716099541\n",
       "\\item 40.2110336449879\n",
       "\\item 33.2573831291792\n",
       "\\item 30.6385818571567\n",
       "\\item 13.8802025103851\n",
       "\\item 33.4302842195876\n",
       "\\item 31.7068829158395\n",
       "\\item 28.4926512887971\n",
       "\\item 26.1778402869322\n",
       "\\item 40.244912147711\n",
       "\\item 40.8129409483586\n",
       "\\item 54.1336151185545\n",
       "\\item 69.6356255927539\n",
       "\\item 65.4578588041159\n",
       "\\item 78.2435980973962\n",
       "\\item 74.5667999694466\n",
       "\\item 79.5747893632234\n",
       "\\item 84.9411757636132\n",
       "\\end{enumerate*}\n"
      ],
      "text/markdown": [
       "1. 10.3322575591463\n",
       "2. 15.8817552941849\n",
       "3. 27.9263716099541\n",
       "4. 40.2110336449879\n",
       "5. 33.2573831291792\n",
       "6. 30.6385818571567\n",
       "7. 13.8802025103851\n",
       "8. 33.4302842195876\n",
       "9. 31.7068829158395\n",
       "10. 28.4926512887971\n",
       "11. 26.1778402869322\n",
       "12. 40.244912147711\n",
       "13. 40.8129409483586\n",
       "14. 54.1336151185545\n",
       "15. 69.6356255927539\n",
       "16. 65.4578588041159\n",
       "17. 78.2435980973962\n",
       "18. 74.5667999694466\n",
       "19. 79.5747893632234\n",
       "20. 84.9411757636132\n",
       "\n",
       "\n"
      ],
      "text/plain": [
       " [1] 10.33226 15.88176 27.92637 40.21103 33.25738 30.63858 13.88020 33.43028\n",
       " [9] 31.70688 28.49265 26.17784 40.24491 40.81294 54.13362 69.63563 65.45786\n",
       "[17] 78.24360 74.56680 79.57479 84.94118"
      ]
     },
     "metadata": {},
     "output_type": "display_data"
    },
    {
     "data": {
      "image/png": "[encoded data removed]",
      "text/plain": [
       "Plot with title \"Simulated stock ticker\""
      ]
     },
     "metadata": {
      "image/png": {
       "height": 420,
       "width": 420
      }
     },
     "output_type": "display_data"
    }
   ],
   "source": [
    "# Exercise: simulating a stock price\n",
    "t.vals <- seq(1,20,by=1)\n",
    "price.vals <- cumsum(rnorm(length(t.vals),mean=5,sd=10))\n",
    "price.vals\n",
    "plot(t.vals,price.vals,\n",
    "     main='Simulated stock ticker',\n",
    "     xlab='time',\n",
    "     ylab='price')\n",
    "lines(t.vals,price.vals)"
   ]
  }
 ],
 "metadata": {
  "kernelspec": {
   "display_name": "R",
   "language": "R",
   "name": "ir"
  },
  "language_info": {
   "codemirror_mode": "r",
   "file_extension": ".r",
   "mimetype": "text/x-r-source",
   "name": "R",
   "pygments_lexer": "r",
   "version": "4.4.3"
  }
 },
 "nbformat": 4,
 "nbformat_minor": 5
}
