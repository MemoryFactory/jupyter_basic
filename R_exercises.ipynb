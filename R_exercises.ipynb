{
 "cells": [
  {
   "cell_type": "code",
   "execution_count": 1,
   "id": "74b0c567-9b41-4111-96b1-957c627c1acd",
   "metadata": {},
   "outputs": [],
   "source": [
    "# 《趣学贝叶斯统计：橡皮鸭、乐高和星球大战中的统计学》"
   ]
  },
  {
   "cell_type": "code",
   "execution_count": null,
   "id": "1f48f3ac-473e-44e5-b79b-c8e521a42e43",
   "metadata": {},
   "outputs": [],
   "source": []
  }
 ],
 "metadata": {
  "kernelspec": {
   "display_name": "R",
   "language": "R",
   "name": "ir"
  },
  "language_info": {
   "codemirror_mode": "r",
   "file_extension": ".r",
   "mimetype": "text/x-r-source",
   "name": "R",
   "pygments_lexer": "r",
   "version": "4.4.3"
  }
 },
 "nbformat": 4,
 "nbformat_minor": 5
}
