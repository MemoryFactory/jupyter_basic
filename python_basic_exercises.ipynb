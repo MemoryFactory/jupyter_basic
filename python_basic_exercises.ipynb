{
 "cells": [
  {
   "cell_type": "code",
   "execution_count": null,
   "id": "c6961e2b-1bfe-4a3b-947d-adb3b332b09f",
   "metadata": {},
   "outputs": [],
   "source": [
    "# "
   ]
  },
  {
   "cell_type": "code",
   "execution_count": 7,
   "id": "243e16e1-6e10-4a36-88aa-557f74eb02c2",
   "metadata": {},
   "outputs": [
    {
     "name": "stdout",
     "output_type": "stream",
     "text": [
      "Start sorting: [17, 5, 19, 8, 15]\n",
      "i= 0\n",
      "compare 17(0) and 17(0)\n",
      "[>=] [17, 5, 19, 8, 15]\n",
      "i= 1\n",
      "compare 5(1) and 17(0)\n",
      "[<] [5, 17, 19, 8, 15]\n",
      "compare 17(1) and 17(1)\n",
      "[>=] [5, 17, 19, 8, 15]\n",
      "i= 2\n",
      "compare 19(2) and 5(0)\n",
      "[>=] [5, 17, 19, 8, 15]\n",
      "compare 19(2) and 17(1)\n",
      "[>=] [5, 17, 19, 8, 15]\n",
      "compare 19(2) and 19(2)\n",
      "[>=] [5, 17, 19, 8, 15]\n",
      "i= 3\n",
      "compare 8(3) and 5(0)\n",
      "[>=] [5, 17, 19, 8, 15]\n",
      "compare 8(3) and 17(1)\n",
      "[<] [5, 8, 19, 17, 15]\n",
      "compare 17(3) and 19(2)\n",
      "[<] [5, 8, 17, 19, 15]\n",
      "compare 19(3) and 19(3)\n",
      "[>=] [5, 8, 17, 19, 15]\n",
      "i= 4\n",
      "compare 15(4) and 5(0)\n",
      "[>=] [5, 8, 17, 19, 15]\n",
      "compare 15(4) and 8(1)\n",
      "[>=] [5, 8, 17, 19, 15]\n",
      "compare 15(4) and 17(2)\n",
      "[<] [5, 8, 15, 19, 17]\n",
      "compare 17(4) and 19(3)\n",
      "[<] [5, 8, 15, 17, 19]\n",
      "compare 19(4) and 19(4)\n",
      "[>=] [5, 8, 15, 17, 19]\n",
      "Result: [5, 8, 15, 17, 19]\n"
     ]
    }
   ],
   "source": [
    "# Bubble Sort\n",
    "element=[17,5,19,8,15]\n",
    "print('Start sorting:',element)\n",
    "for i in range(len(element)):\n",
    "    print('i=',i)\n",
    "    for j in range(i+1):\n",
    "        print(f'compare {element[i]}({i}) and {element[j]}({j})')\n",
    "        if element[i]<element[j]:\n",
    "            element[i],element[j] = element[j],element[i]\n",
    "            print('[<]',element)\n",
    "        else:\n",
    "            print('[>=]',element)\n",
    "print('Result:',element)\n",
    "            "
   ]
  },
  {
   "cell_type": "code",
   "execution_count": 28,
   "id": "662acb5d-819a-4fe6-9eb5-d348f85be1d0",
   "metadata": {},
   "outputs": [
    {
     "name": "stdout",
     "output_type": "stream",
     "text": [
      "[5, 8, 15, 17, 19, 33, 35, 41, 49]\n",
      "Input a value\n"
     ]
    },
    {
     "name": "stdin",
     "output_type": "stream",
     "text": [
      ">  1\n"
     ]
    },
    {
     "name": "stdout",
     "output_type": "stream",
     "text": [
      "search_scale:[5, 8, 15, 17, 19, 33, 35, 41, 49], mid_index=4, value=19\n",
      "search_scale:[5, 8, 15, 17], mid_index=1, value=8\n",
      "search_scale:[5], mid_index=0, value=5\n",
      "No element 1\n"
     ]
    }
   ],
   "source": [
    "# Binary Search\n",
    "element=[5,8,15,17,19,33,35,41,49]\n",
    "# val=8\n",
    "low=0\n",
    "high=len(element)-1\n",
    "trace=False\n",
    "print(element)\n",
    "print(f'Input a value')\n",
    "val=int(input('> '))\n",
    "while low<=high:\n",
    "    mid=(low+high)//2\n",
    "    print(f'search_scale:{element[low:high+1]}, mid_index={mid}, value={element[mid]}')\n",
    "    if element[mid]==val:\n",
    "        trace=True\n",
    "        break\n",
    "    elif element[mid]>val:\n",
    "        high=mid-1\n",
    "    else:\n",
    "        low=mid+1\n",
    "\n",
    "if trace:\n",
    "    print(f'Find, the index of {val} is {mid}.')\n",
    "else:\n",
    "    print(f'No element {val}')"
   ]
  },
  {
   "cell_type": "code",
   "execution_count": 5,
   "id": "479c3f35-c1ff-42a0-b931-511af4242246",
   "metadata": {},
   "outputs": [
    {
     "ename": "Terminator",
     "evalue": "",
     "output_type": "error",
     "traceback": [
      "\u001b[0;31m---------------------------------------------------------------------------\u001b[0m",
      "\u001b[0;31mTerminator\u001b[0m                                Traceback (most recent call last)",
      "Cell \u001b[0;32mIn[5], line 4\u001b[0m\n\u001b[1;32m      2\u001b[0m \u001b[38;5;28;01mimport\u001b[39;00m \u001b[38;5;21;01mturtle\u001b[39;00m\n\u001b[1;32m      3\u001b[0m t\u001b[38;5;241m=\u001b[39mturtle\u001b[38;5;241m.\u001b[39mPen()\n\u001b[0;32m----> 4\u001b[0m turtle\u001b[38;5;241m.\u001b[39mbgcolor(\u001b[38;5;124m'\u001b[39m\u001b[38;5;124mblack\u001b[39m\u001b[38;5;124m'\u001b[39m)\n\u001b[1;32m      6\u001b[0m name_str\u001b[38;5;241m=\u001b[39m\u001b[38;5;28mstr\u001b[39m(\u001b[38;5;124m'\u001b[39m\u001b[38;5;124mLeo,Lily,Tom,Alex,Max\u001b[39m\u001b[38;5;124m'\u001b[39m\u001b[38;5;241m.\u001b[39msplit(\u001b[38;5;124m'\u001b[39m\u001b[38;5;124m,\u001b[39m\u001b[38;5;124m'\u001b[39m))\n\u001b[1;32m      7\u001b[0m name_list\u001b[38;5;241m=\u001b[39m\u001b[38;5;28meval\u001b[39m(name_str)\n",
      "File \u001b[0;32m<string>:5\u001b[0m, in \u001b[0;36mbgcolor\u001b[0;34m(*args)\u001b[0m\n",
      "\u001b[0;31mTerminator\u001b[0m: "
     ]
    }
   ],
   "source": [
    "# program4.8\n",
    "import turtle\n",
    "t=turtle.Pen()\n",
    "turtle.bgcolor('black')\n",
    "\n",
    "name_str=str('Leo,Lily,Tom,Alex,Max'.split(','))\n",
    "name_list=eval(name_str)\n",
    "colors='yellow,green,white,brown,gray'.split(',')\n",
    "\n",
    "for x in range(150):\n",
    "    t.pencolor(colors[x%len(name_list)])\n",
    "    t.penup()\n",
    "    t.forward(x*4)\n",
    "    t.pendown()\n",
    "    t.write(name_list[x%len(name_list)],font=('Arial',int((x+4)/4)))\n",
    "    t.left(360/len(name_list)+3)"
   ]
  }
 ],
 "metadata": {
  "kernelspec": {
   "display_name": "Python 3 (ipykernel)",
   "language": "python",
   "name": "python3"
  },
  "language_info": {
   "codemirror_mode": {
    "name": "ipython",
    "version": 3
   },
   "file_extension": ".py",
   "mimetype": "text/x-python",
   "name": "python",
   "nbconvert_exporter": "python",
   "pygments_lexer": "ipython3",
   "version": "3.12.4"
  }
 },
 "nbformat": 4,
 "nbformat_minor": 5
}
