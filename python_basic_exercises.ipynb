{
 "cells": [
  {
   "cell_type": "code",
   "execution_count": null,
   "id": "c6961e2b-1bfe-4a3b-947d-adb3b332b09f",
   "metadata": {},
   "outputs": [],
   "source": [
    "# 《人工智能基础教程：Python篇（青少版）》"
   ]
  },
  {
   "cell_type": "code",
   "execution_count": 7,
   "id": "243e16e1-6e10-4a36-88aa-557f74eb02c2",
   "metadata": {},
   "outputs": [
    {
     "name": "stdout",
     "output_type": "stream",
     "text": [
      "Start sorting: [17, 5, 19, 8, 15]\n",
      "i= 0\n",
      "compare 17(0) and 17(0)\n",
      "[>=] [17, 5, 19, 8, 15]\n",
      "i= 1\n",
      "compare 5(1) and 17(0)\n",
      "[<] [5, 17, 19, 8, 15]\n",
      "compare 17(1) and 17(1)\n",
      "[>=] [5, 17, 19, 8, 15]\n",
      "i= 2\n",
      "compare 19(2) and 5(0)\n",
      "[>=] [5, 17, 19, 8, 15]\n",
      "compare 19(2) and 17(1)\n",
      "[>=] [5, 17, 19, 8, 15]\n",
      "compare 19(2) and 19(2)\n",
      "[>=] [5, 17, 19, 8, 15]\n",
      "i= 3\n",
      "compare 8(3) and 5(0)\n",
      "[>=] [5, 17, 19, 8, 15]\n",
      "compare 8(3) and 17(1)\n",
      "[<] [5, 8, 19, 17, 15]\n",
      "compare 17(3) and 19(2)\n",
      "[<] [5, 8, 17, 19, 15]\n",
      "compare 19(3) and 19(3)\n",
      "[>=] [5, 8, 17, 19, 15]\n",
      "i= 4\n",
      "compare 15(4) and 5(0)\n",
      "[>=] [5, 8, 17, 19, 15]\n",
      "compare 15(4) and 8(1)\n",
      "[>=] [5, 8, 17, 19, 15]\n",
      "compare 15(4) and 17(2)\n",
      "[<] [5, 8, 15, 19, 17]\n",
      "compare 17(4) and 19(3)\n",
      "[<] [5, 8, 15, 17, 19]\n",
      "compare 19(4) and 19(4)\n",
      "[>=] [5, 8, 15, 17, 19]\n",
      "Result: [5, 8, 15, 17, 19]\n"
     ]
    }
   ],
   "source": [
    "# Bubble Sort\n",
    "element=[17,5,19,8,15]\n",
    "print('Start sorting:',element)\n",
    "for i in range(len(element)):\n",
    "    print('i=',i)\n",
    "    for j in range(i+1):\n",
    "        print(f'compare {element[i]}({i}) and {element[j]}({j})')\n",
    "        if element[i]<element[j]:\n",
    "            element[i],element[j] = element[j],element[i]\n",
    "            print('[<]',element)\n",
    "        else:\n",
    "            print('[>=]',element)\n",
    "print('Result:',element)\n",
    "            "
   ]
  },
  {
   "cell_type": "code",
   "execution_count": 28,
   "id": "662acb5d-819a-4fe6-9eb5-d348f85be1d0",
   "metadata": {},
   "outputs": [
    {
     "name": "stdout",
     "output_type": "stream",
     "text": [
      "[5, 8, 15, 17, 19, 33, 35, 41, 49]\n",
      "Input a value\n"
     ]
    },
    {
     "name": "stdin",
     "output_type": "stream",
     "text": [
      ">  1\n"
     ]
    },
    {
     "name": "stdout",
     "output_type": "stream",
     "text": [
      "search_scale:[5, 8, 15, 17, 19, 33, 35, 41, 49], mid_index=4, value=19\n",
      "search_scale:[5, 8, 15, 17], mid_index=1, value=8\n",
      "search_scale:[5], mid_index=0, value=5\n",
      "No element 1\n"
     ]
    }
   ],
   "source": [
    "# Binary Search\n",
    "element=[5,8,15,17,19,33,35,41,49]\n",
    "# val=8\n",
    "low=0\n",
    "high=len(element)-1\n",
    "trace=False\n",
    "print(element)\n",
    "print(f'Input a value')\n",
    "val=int(input('> '))\n",
    "while low<=high:\n",
    "    mid=(low+high)//2\n",
    "    print(f'search_scale:{element[low:high+1]}, mid_index={mid}, value={element[mid]}')\n",
    "    if element[mid]==val:\n",
    "        trace=True\n",
    "        break\n",
    "    elif element[mid]>val:\n",
    "        high=mid-1\n",
    "    else:\n",
    "        low=mid+1\n",
    "\n",
    "if trace:\n",
    "    print(f'Find, the index of {val} is {mid}.')\n",
    "else:\n",
    "    print(f'No element {val}')"
   ]
  },
  {
   "cell_type": "code",
   "execution_count": 4,
   "id": "479c3f35-c1ff-42a0-b931-511af4242246",
   "metadata": {},
   "outputs": [
    {
     "name": "stdout",
     "output_type": "stream",
     "text": [
      "[<a class=\"title\" href=\"/p/7081b31fe22f\" target=\"_blank\">摩熵化学解锁DeepSeek，反应机理一问便知！</a>, <a class=\"title\" href=\"/p/b2ebca30f9be\" target=\"_blank\">用度量思想来解释线，面，体的度量</a>, <a class=\"title\" href=\"/p/a72bcefe7dd3\" target=\"_blank\">纯粹</a>, <a class=\"title\" href=\"/p/e761c8d86d37\" target=\"_blank\">政策红利不等人！企业退税 23400 元 / 人实操指南</a>, <a class=\"title\" href=\"/p/400700f323a2\" target=\"_blank\">纯粹的快乐，满怀的希望</a>, <a class=\"title\" href=\"/p/46d428030be1\" target=\"_blank\">iPhone 16E：马上购买还是等待 iPhone 17？</a>, <a class=\"title\" href=\"/p/efdfb4942498\" target=\"_blank\">从“躺平”到“内卷”：当代年轻人的生存困境与自我救赎</a>]\n"
     ]
    }
   ],
   "source": [
    "# Program 5.3\n",
    "from urllib import request\n",
    "from bs4 import BeautifulSoup\n",
    "\n",
    "url='http://www.jianshu.com'\n",
    "headers = {'User-Agent':'Mozilla/5.0 (Windows NT 10.0; Win64; x64) AppleWebKit/537.36 (KHTML, like Gecko)Chrome/55.0.2883.87 Safari/537.36'}\n",
    "page = request.Request(url,headers=headers)\n",
    "page_info = request.urlopen(page).read().decode('utf-8')\n",
    "\n",
    "soup = BeautifulSoup(page_info,'html.parser')\n",
    "\n",
    "titles = soup.find_all('a','title')\n",
    "print(titles)\n",
    "\n",
    "file = open('./temp/webinfo.txt','w')\n",
    "for title in titles:\n",
    "    file.write(title.string+'\\n')\n",
    "    file.write('http://www.jianshu.com'+title.get('href')+'\\n\\n')\n",
    "file.close()"
   ]
  },
  {
   "cell_type": "code",
   "execution_count": 1,
   "id": "c5b73b52-4fed-41f6-bf5d-d33f7285097b",
   "metadata": {},
   "outputs": [
    {
     "name": "stdout",
     "output_type": "stream",
     "text": [
      "the: 39\n"
     ]
    }
   ],
   "source": [
    "# Program 5.4\n",
    "import collections\n",
    "file = open('./EULA.txt')\n",
    "str = file.read().split()\n",
    "file.close()\n",
    "n = collections.Counter(str)\n",
    "print('the:',n['the'])\n",
    "\n",
    "s = zip(n.values(),n.keys())\n",
    "\n",
    "output = open('./temp/result.txt','w')\n",
    "for item in sorted(s,reverse=True):\n",
    "    output.write(f'{item[1]}: {item[0]}\\n')\n",
    "output.close()"
   ]
  },
  {
   "cell_type": "code",
   "execution_count": 4,
   "id": "67524581-ad05-49a4-8d1a-cd7cde1eb22d",
   "metadata": {},
   "outputs": [
    {
     "name": "stdout",
     "output_type": "stream",
     "text": [
      "1\n",
      "北京 2018-05-13 30°C/17°C\n",
      "北京 2018-05-14 34°C/22°C\n"
     ]
    }
   ],
   "source": [
    "# Program 5.5\n",
    "import json\n",
    "with open('./test_json.json') as file:\n",
    "    data=json.load(file)\n",
    "\n",
    "print(data['success'])\n",
    "print(data['result'][0]['citynm'], data['result'][0]['days'], data['result'][0]['temperature'])\n",
    "print(data['result'][1]['citynm'], data['result'][1]['days'], data['result'][1]['temperature'])"
   ]
  }
 ],
 "metadata": {
  "kernelspec": {
   "display_name": "Python 3 (ipykernel)",
   "language": "python",
   "name": "python3"
  },
  "language_info": {
   "codemirror_mode": {
    "name": "ipython",
    "version": 3
   },
   "file_extension": ".py",
   "mimetype": "text/x-python",
   "name": "python",
   "nbconvert_exporter": "python",
   "pygments_lexer": "ipython3",
   "version": "3.12.4"
  }
 },
 "nbformat": 4,
 "nbformat_minor": 5
}
