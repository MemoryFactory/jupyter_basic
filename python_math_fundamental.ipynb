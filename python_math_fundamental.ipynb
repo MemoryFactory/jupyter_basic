{
 "cells": [
  {
   "cell_type": "markdown",
   "id": "a2ad2f40-4766-4bad-9d36-c9e18fb5a285",
   "metadata": {},
   "source": [
    "# 《大数据数学基础（Python语言描述）》"
   ]
  },
  {
   "cell_type": "markdown",
   "id": "93e98f36-76e7-4769-b552-2a4d913f2bab",
   "metadata": {},
   "source": [
    "# 2 \n",
    "## Calculus\n",
    "`sympy.limit(e, z, z0, dir='+')` z -> z0\n",
    "\n",
    "`sympy.diff(f, *symbols, **kwargs)`\n",
    "\n",
    "`sympy.integrate(f, var, ...)`\n",
    "\n",
    "`sympy.integrate(f, (var, a, b))`\n",
    "\n",
    "## Solve Equations\n",
    "`solve(f, var)` f = 0"
   ]
  },
  {
   "cell_type": "code",
   "execution_count": 28,
   "id": "387d28f6-8e2b-4679-9f83-24648157c059",
   "metadata": {},
   "outputs": [
    {
     "name": "stdout",
     "output_type": "stream",
     "text": [
      "<class 'sympy.core.symbol.Symbol'>\n",
      "一元二次方程的根为： [2, 3]\n",
      "A:  {'2', '1', '5', '4'} \n",
      "B:  {'2', '3'}\n",
      "A|B:  {'1', '5', '3', '4', '2'}\n",
      "A&B:  {'2'}\n",
      "A\\B:  {'1', '5', '4'}\n",
      "<class 'sympy.core.symbol.Symbol'>\n",
      "2-2 limit:  1\n",
      "2-3 limit s:  2.00000000000000\n",
      "2-4 limit s:  1/2\n"
     ]
    }
   ],
   "source": [
    "# 2.1函数与极限\n",
    "from sympy import *\n",
    "x = symbols('x')\n",
    "print(type(x))\n",
    "X = solve(x**2-5*x+6,x)\n",
    "print('一元二次方程的根为：',X)\n",
    "\n",
    "A = set('1245')\n",
    "B = set('23')\n",
    "print('A: ',A,'\\nB: ',B)\n",
    "print('A|B: ', A|B)\n",
    "print('A&B: ', A&B)\n",
    "print(r'A\\B: ', A-B)\n",
    "\n",
    "# sympy.limit(e, z, z0, dir='+') # z -> z0 #求极限\n",
    "# ex.2-2\n",
    "n = Symbol('n')\n",
    "print(type(n))\n",
    "s = n/(n+1)\n",
    "print('2-2 limit: ',limit(s,n,oo)) # n -> oo\n",
    "\n",
    "# ex.2-3\n",
    "x = Symbol('x')\n",
    "s = (1-4*x**2)/(2*x+1)\n",
    "print('2-3 limit s: ',limit(s,x,-1/2)) # x -> -1/2\n",
    "\n",
    "# ex.2-4\n",
    "x = Symbol('x')\n",
    "s = (1+x**3)/(2*x**3)\n",
    "print('2-4 limit s: ',limit(s,x,oo))"
   ]
  },
  {
   "cell_type": "code",
   "execution_count": 35,
   "id": "baeba1e3-1a8a-49e3-a7a9-7d619d587136",
   "metadata": {},
   "outputs": [
    {
     "name": "stdout",
     "output_type": "stream",
     "text": [
      "2-17 sin29°:  0.48480962024633706\n",
      "2-18 1.02**(1/3):  1.006622709560113\n"
     ]
    }
   ],
   "source": [
    "# 2.2\n",
    "# sympy.diff(f, *symbols, **kwargs) #求导\n",
    "# ex.2-5\n",
    "from sympy import *\n",
    "x = Symbol('x')\n",
    "C = 2\n",
    "y = C\n",
    "diff(y,x)\n",
    "\n",
    "# ex.2-6\n",
    "x = Symbol('x')\n",
    "mu = Symbol('mu')\n",
    "y = x**mu\n",
    "init_printing()\n",
    "diff(y,x)\n",
    "\n",
    "# ex.2-7\n",
    "x = Symbol('x')\n",
    "a = Symbol('a')\n",
    "# limit((a**x-1)/x,x,0)\n",
    "y = a**x\n",
    "diff(y,x)\n",
    "\n",
    "# ex.2-8\n",
    "x = Symbol('x')\n",
    "a = Symbol('a')\n",
    "y = log(x,a)\n",
    "diff(y,x)\n",
    "\n",
    "# ex.2-9\n",
    "y = sin(x)\n",
    "diff(y)\n",
    "\n",
    "# ex.2-10\n",
    "y = asin(x)\n",
    "diff(y,x)\n",
    "\n",
    "# ex.2-11\n",
    "u = log(x,2)\n",
    "v = x**2+1\n",
    "y = u+v\n",
    "diff(y,x)\n",
    "y=u-v\n",
    "diff(y,x)\n",
    "y = u*v\n",
    "diff(y,x)\n",
    "y = u/v\n",
    "diff(y,x)\n",
    "\n",
    "# ex.2-12\n",
    "x = Symbol('x')\n",
    "u = Symbol('u')\n",
    "u = x**2\n",
    "y = sin(u)\n",
    "diff(y,x)\n",
    "\n",
    "y = sin(x**2)\n",
    "diff(y,x)\n",
    "\n",
    "# ex.2-13\n",
    "y = log(tan(x))\n",
    "diff(y,x)\n",
    "\n",
    "# ex.2-14\n",
    "y = log(cos(exp(x)))\n",
    "diff(y,x)\n",
    "\n",
    "# ex.2-15\n",
    "x = Symbol('x')\n",
    "y = sin(2*x+1)\n",
    "diff(y,x)\n",
    "\n",
    "# ex.2-16\n",
    "y = log(x+sqrt(x**2+1))\n",
    "diff(y,x)\n",
    "\n",
    "# ex.2-17\n",
    "import numpy as np\n",
    "x = (29/360)*2*np.pi # x=29°\n",
    "y = np.sin(x)\n",
    "print('2-17 sin29°: ',y)\n",
    "\n",
    "# ex.2-18\n",
    "x = 1.02\n",
    "y = x**(1/3)\n",
    "print('2-18 1.02**(1/3): ', y)\n"
   ]
  },
  {
   "cell_type": "code",
   "execution_count": 2,
   "id": "a9caaeaf-14f2-404a-a1a7-a036e26a90f6",
   "metadata": {},
   "outputs": [
    {
     "name": "stdout",
     "output_type": "stream",
     "text": [
      "\n",
      "*** 2-19 ***\n",
      "df2=0, x= [2]\n",
      "y= 2\n",
      "\n",
      "*** 2-20 ***\n",
      "stationary points:  [-3, -7/5, 1]\n",
      "extremums:  0 -35.3894400000000\n",
      "\n",
      "*** 2-21 ***\n",
      "f'(x) stationary points:  [0, 2]\n",
      "f(x)= 2*x**3 - 6*x**2 + 7 , f'(x)= 6*x**2 - 12*x , f\"(x)= 12*(x - 1)\n",
      "f\"(0)= -12 , f\"(2)= 12\n",
      "f(0)= 7 , f(2)= -1\n",
      "\n",
      "*** 2-22 ***\n",
      "stationary points: [-1.73205080756888, 1.73205080756888]\n"
     ]
    },
    {
     "data": {
      "text/latex": [
       "$\\displaystyle 2.0 \\sqrt{3} + 24$"
      ],
      "text/plain": [
       "2.0*sqrt(3) + 24"
      ]
     },
     "execution_count": 2,
     "metadata": {},
     "output_type": "execute_result"
    }
   ],
   "source": [
    "# 2.3\n",
    "from sympy import *\n",
    "x,y = symbols('x y')\n",
    "type(x)\n",
    "type(y)\n",
    "\n",
    "# ex.2-19\n",
    "print('\\n*** 2-19 ***')\n",
    "from sympy import *\n",
    "x = Symbol('x')\n",
    "y = 2*x**3-12*x**2+18*x-2\n",
    "df1 = diff(y,x)\n",
    "df1\n",
    "df2 = diff(y,x,2)\n",
    "df2\n",
    "print('df2=0, x=',solve(df2,x))\n",
    "print('y=',y.subs(x,2))\n",
    "\n",
    "# ex.2-20\n",
    "print('\\n*** 2-20 ***')\n",
    "y = (x+3)**2 * (x-1)**3\n",
    "df = diff(y,x)\n",
    "print('stationary points: ',solve(df,x))\n",
    "print('extremums: ',y.subs(x,-3),y.subs(x,-7/5))\n",
    "\n",
    "# ex.2-21\n",
    "print('\\n*** 2-21 ***')\n",
    "y = 2*x**3 - 6*x**2 + 7\n",
    "df = diff(y,x)\n",
    "sp = solve(df,x)\n",
    "print('f\\'(x) stationary points: ',sp)\n",
    "df2 = diff(y,x,2)\n",
    "print('f(x)=',y,', f\\'(x)=',df,', f\"(x)=',df2)\n",
    "print(f'f\"({sp[0]})=',df2.subs(x,sp[0]),f', f\"({sp[1]})=',df2.subs(x,sp[1]))\n",
    "print(f'f({sp[0]})=',y.subs(x,sp[0]),f', f({sp[1]})=',y.subs(x,sp[1]))\n",
    "\n",
    "# ex.2-22\n",
    "print('\\n*** 2-22 ***')\n",
    "y = -1/3*x**3 + 3*x +24\n",
    "df = diff(y,x)\n",
    "sp = solve(df,x) # f'(x)=0\n",
    "print('stationary points:',sp)\n",
    "max(y.subs(x,0),y.subs(x,sqrt(3)),y.subs(x,3))"
   ]
  },
  {
   "cell_type": "markdown",
   "id": "eb82dcab-fd6e-4710-843e-f5509ab595d1",
   "metadata": {},
   "source": [
    "## 2.4\n",
    "`sympy.integrate(f, var, ...)`"
   ]
  },
  {
   "cell_type": "code",
   "execution_count": 66,
   "id": "512ec7eb-9069-4a8f-a811-acabcce30277",
   "metadata": {},
   "outputs": [
    {
     "name": "stdout",
     "output_type": "stream",
     "text": [
      "\n",
      "*** 2-23 ***\n"
     ]
    },
    {
     "data": {
      "text/latex": [
       "$\\displaystyle \\left( \\frac{1}{x^{2} + 1}, \\  - \\frac{1}{x^{2} + 1}\\right)$"
      ],
      "text/plain": [
       "<IPython.core.display.Math object>"
      ]
     },
     "metadata": {},
     "output_type": "display_data"
    },
    {
     "data": {
      "text/latex": [
       "$\\displaystyle \\left( e^{x}, \\  1.0 e^{2 x}\\right)$"
      ],
      "text/plain": [
       "<IPython.core.display.Math object>"
      ]
     },
     "metadata": {},
     "output_type": "display_data"
    },
    {
     "name": "stdout",
     "output_type": "stream",
     "text": [
      "⎛1  1⎞\n",
      "⎜─, ─⎟\n",
      "⎝x  x⎠\n",
      "\n",
      "*** 2-24 ***\n"
     ]
    },
    {
     "data": {
      "text/latex": [
       "$\\displaystyle \\sin{\\left(x \\right)}$"
      ],
      "text/plain": [
       "<IPython.core.display.Math object>"
      ]
     },
     "metadata": {},
     "output_type": "display_data"
    },
    {
     "data": {
      "text/latex": [
       "$\\displaystyle \\operatorname{atan}{\\left(x \\right)}$"
      ],
      "text/plain": [
       "<IPython.core.display.Math object>"
      ]
     },
     "metadata": {},
     "output_type": "display_data"
    },
    {
     "data": {
      "text/latex": [
       "$\\displaystyle x^{3}$"
      ],
      "text/plain": [
       "<IPython.core.display.Math object>"
      ]
     },
     "metadata": {},
     "output_type": "display_data"
    },
    {
     "name": "stdout",
     "output_type": "stream",
     "text": [
      "\n",
      "*** 2-25 ***\n"
     ]
    },
    {
     "data": {
      "text/latex": [
       "$\\displaystyle \\log{\\left(x \\right)}$"
      ],
      "text/plain": [
       "<IPython.core.display.Math object>"
      ]
     },
     "metadata": {},
     "output_type": "display_data"
    },
    {
     "data": {
      "text/latex": [
       "$\\displaystyle \\log{\\left(x \\right)} + 1$"
      ],
      "text/plain": [
       "<IPython.core.display.Math object>"
      ]
     },
     "metadata": {},
     "output_type": "display_data"
    },
    {
     "name": "stdout",
     "output_type": "stream",
     "text": [
      "\n",
      "*** 2-26 ***\n"
     ]
    },
    {
     "data": {
      "text/latex": [
       "$\\displaystyle e^{x} - 3 \\sin{\\left(x \\right)}$"
      ],
      "text/plain": [
       "<IPython.core.display.Math object>"
      ]
     },
     "metadata": {},
     "output_type": "display_data"
    },
    {
     "data": {
      "text/latex": [
       "$\\displaystyle e^{x} - 3 \\sin{\\left(x \\right)}$"
      ],
      "text/plain": [
       "<IPython.core.display.Math object>"
      ]
     },
     "metadata": {},
     "output_type": "display_data"
    },
    {
     "name": "stdout",
     "output_type": "stream",
     "text": [
      "\n",
      "*** 2-27 ***\n"
     ]
    },
    {
     "data": {
      "text/latex": [
       "$\\displaystyle 3 x \\log{\\left(x \\right)} - 3 x$"
      ],
      "text/plain": [
       "<IPython.core.display.Math object>"
      ]
     },
     "metadata": {},
     "output_type": "display_data"
    },
    {
     "data": {
      "text/latex": [
       "$\\displaystyle 3 x \\log{\\left(x \\right)} - 3 x$"
      ],
      "text/plain": [
       "<IPython.core.display.Math object>"
      ]
     },
     "metadata": {},
     "output_type": "display_data"
    },
    {
     "name": "stdout",
     "output_type": "stream",
     "text": [
      "\n",
      "*** 2-28 ***\n",
      "f : x**3 - 15*x**2 + 75*x - 125\n",
      "F : x**4/4 - 5*x**3 + 75*x**2/2 - 125*x\n",
      "dF: x**3 - 15*x**2 + 75*x - 125\n",
      "\n",
      "*** 2-29 ***\n"
     ]
    },
    {
     "data": {
      "text/latex": [
       "$\\displaystyle - \\frac{- 2 x^{2} - 3}{x^{3} + 1}$"
      ],
      "text/plain": [
       "<IPython.core.display.Math object>"
      ]
     },
     "metadata": {},
     "output_type": "display_data"
    },
    {
     "name": "stdout",
     "output_type": "stream",
     "text": [
      "\n",
      "\n",
      "*** 2-30 ***\n"
     ]
    },
    {
     "data": {
      "text/latex": [
       "$\\displaystyle - \\frac{2 \\sqrt{4 - x^{3}}}{3}$"
      ],
      "text/plain": [
       "<IPython.core.display.Math object>"
      ]
     },
     "metadata": {},
     "output_type": "display_data"
    },
    {
     "name": "stdout",
     "output_type": "stream",
     "text": [
      "\n",
      "*** 2-31 ***\n"
     ]
    },
    {
     "data": {
      "text/latex": [
       "$\\displaystyle \\left(- x - 1\\right) e^{- x - 1}$"
      ],
      "text/plain": [
       "<IPython.core.display.Math object>"
      ]
     },
     "metadata": {},
     "output_type": "display_data"
    }
   ],
   "source": [
    "# 2.4\n",
    "from sympy import *\n",
    "from IPython.display import Math,display\n",
    "\n",
    "def lprint(math):\n",
    "    lmath = latex(math)\n",
    "    display(Math(lmath))\n",
    "\n",
    "def tl(ex):\n",
    "    print(f'\\n*** {ex} ***')\n",
    "\n",
    "init_printing()\n",
    "\n",
    "# ex.2-23\n",
    "tl('2-23')\n",
    "x = Symbol('x')\n",
    "lprint((diff(atan(x),x), diff(acot(x),x)))\n",
    "lprint((diff(exp(x),x),diff(1/2*exp(2*x),x)))\n",
    "pprint((diff(log(2*x),x),diff(log(x),x)))\n",
    "\n",
    "# sympy.integrate(f, var, ...) #\n",
    "\n",
    "# ex.2-24\n",
    "tl('2-24')\n",
    "f = cos(x)\n",
    "lprint(integrate(f,x))\n",
    "f = 1/(1+x**2)\n",
    "lprint(integrate(f,x))\n",
    "f = 3*x**2\n",
    "lprint(integrate(f,x))\n",
    "\n",
    "# ex.2-25\n",
    "tl('2-25')\n",
    "f = 1/x\n",
    "F = integrate(f,x)\n",
    "lprint(F) # ln(x)\n",
    "C = 3-F.subs(x,exp(2))\n",
    "lprint(F+C)\n",
    "\n",
    "# ex.2-26\n",
    "tl('2-26')\n",
    "f = exp(x)\n",
    "g = -3*cos(x)\n",
    "lprint(integrate(f+g,x))\n",
    "lprint(integrate(f,x) + integrate(g,x))\n",
    "\n",
    "# ex.2-27\n",
    "tl('2-27')\n",
    "f = log(x)\n",
    "k = 3\n",
    "lprint(integrate(k*f,x))\n",
    "lprint(k*integrate(f,x))\n",
    "\n",
    "# ex.2-28\n",
    "tl('2-28')\n",
    "f = (x-5)**3\n",
    "print('f :',expand(f))\n",
    "F = integrate(f,x)\n",
    "print('F :',F)\n",
    "print('dF:',diff(F,x))\n",
    "\n",
    "# ex.2-29\n",
    "tl('2-29')\n",
    "f = (2*x**2+3)/(x**3+1)\n",
    "lprint(integrate(diff(f,x),x))\n",
    "\n",
    "print()\n",
    "integrate(exp(x**2))\n",
    "integrate(1/log(x))\n",
    "integrate(sin(x)/x)\n",
    "\n",
    "# ex.2-30\n",
    "tl('2-30')\n",
    "y = x**2/sqrt(4-x**3)\n",
    "lprint(integrate(y,x))\n",
    "\n",
    "# ex.2-31\n",
    "tl('2-31')\n",
    "f = x*exp(-x-1)\n",
    "lprint(integrate(f,x))"
   ]
  },
  {
   "cell_type": "code",
   "execution_count": 16,
   "id": "9f05d733-a873-4329-bbd6-b54d8439e9dc",
   "metadata": {},
   "outputs": [
    {
     "name": "stdout",
     "output_type": "stream",
     "text": [
      "\n",
      "*** 2-32 ***\n"
     ]
    },
    {
     "data": {
      "text/latex": [
       "$\\displaystyle - \\frac{a^{3}}{3} - a + \\frac{b^{3}}{3} + b$"
      ],
      "text/plain": [
       "<IPython.core.display.Math object>"
      ]
     },
     "metadata": {},
     "output_type": "display_data"
    },
    {
     "name": "stdout",
     "output_type": "stream",
     "text": [
      "\n",
      "*** 2-33 ***\n"
     ]
    },
    {
     "data": {
      "text/latex": [
       "$\\displaystyle 2$"
      ],
      "text/plain": [
       "<IPython.core.display.Math object>"
      ]
     },
     "metadata": {},
     "output_type": "display_data"
    },
    {
     "data": {
      "text/latex": [
       "$\\displaystyle -5 + 5 \\log{\\left(5 \\right)}$"
      ],
      "text/plain": [
       "<IPython.core.display.Math object>"
      ]
     },
     "metadata": {},
     "output_type": "display_data"
    },
    {
     "name": "stdout",
     "output_type": "stream",
     "text": [
      "\n",
      "*** 2-34 ***\n"
     ]
    },
    {
     "data": {
      "text/latex": [
       "$\\displaystyle \\frac{\\log{\\left(x \\right)}^{4}}{x}$"
      ],
      "text/plain": [
       "<IPython.core.display.Math object>"
      ]
     },
     "metadata": {},
     "output_type": "display_data"
    },
    {
     "data": {
      "text/latex": [
       "$\\displaystyle \\frac{1}{5}$"
      ],
      "text/plain": [
       "<IPython.core.display.Math object>"
      ]
     },
     "metadata": {},
     "output_type": "display_data"
    },
    {
     "name": "stdout",
     "output_type": "stream",
     "text": [
      "\n",
      "*** 2-35 ***\n",
      "- \\frac{1}{2} + \\frac{5 e^{2}}{2}\n"
     ]
    },
    {
     "data": {
      "text/latex": [
       "$\\displaystyle - \\frac{1}{2} + \\frac{5 e^{2}}{2}$"
      ],
      "text/plain": [
       "<IPython.core.display.Math object>"
      ]
     },
     "metadata": {},
     "output_type": "display_data"
    }
   ],
   "source": [
    "# 2.4.3\n",
    "from latex_print import *\n",
    "\n",
    "# ex.2-32\n",
    "tl('2-32')\n",
    "x,a,b = symbols('x a b')\n",
    "y = x**2+1\n",
    "lprint(integrate(y,(x,a,b)))\n",
    "\n",
    "# ex.2-33\n",
    "tl('2-33')\n",
    "lprint(integrate(sin(x),(x,0,pi)))\n",
    "lprint(integrate(log(x),(x,0,5)))\n",
    "\n",
    "# 2.4.4\n",
    "# ex.2-34\n",
    "tl('2-34')\n",
    "f = (ln(x))**4/x\n",
    "lprint(f)\n",
    "lprint(integrate(f,(x,1,exp(1))))\n",
    "\n",
    "# ex.2-35\n",
    "tl('2-35')\n",
    "f = exp(2*x)*(4*x+3)\n",
    "print(latex(integrate(f,(x,0,1))))\n",
    "lprint(integrate(f,(x,0,1)))"
   ]
  },
  {
   "cell_type": "code",
   "execution_count": 45,
   "id": "89d9f99f-43ad-4f29-9db5-a4c2f4e06e31",
   "metadata": {},
   "outputs": [
    {
     "name": "stdout",
     "output_type": "stream",
     "text": [
      "\n",
      "*** 1 ***\n"
     ]
    },
    {
     "data": {
      "text/latex": [
       "$\\displaystyle - \\sqrt{x^{6} + 1} + \\left(x^{3} - x^{2} + \\frac{x}{2}\\right)^{e^{- x}}$"
      ],
      "text/plain": [
       "<IPython.core.display.Math object>"
      ]
     },
     "metadata": {},
     "output_type": "display_data"
    },
    {
     "data": {
      "text/latex": [
       "$\\displaystyle -\\infty$"
      ],
      "text/plain": [
       "<IPython.core.display.Math object>"
      ]
     },
     "metadata": {},
     "output_type": "display_data"
    },
    {
     "data": {
      "text/latex": [
       "$\\displaystyle \\sin^{\\tan{\\left(x \\right)}}{\\left(x \\right)}$"
      ],
      "text/plain": [
       "<IPython.core.display.Math object>"
      ]
     },
     "metadata": {},
     "output_type": "display_data"
    },
    {
     "data": {
      "text/latex": [
       "$\\displaystyle 1$"
      ],
      "text/plain": [
       "<IPython.core.display.Math object>"
      ]
     },
     "metadata": {},
     "output_type": "display_data"
    },
    {
     "data": {
      "text/latex": [
       "$\\displaystyle \\left(\\frac{4 x + 3}{4 x + 1}\\right)^{2 x + 5}$"
      ],
      "text/plain": [
       "<IPython.core.display.Math object>"
      ]
     },
     "metadata": {},
     "output_type": "display_data"
    },
    {
     "data": {
      "text/latex": [
       "$\\displaystyle e$"
      ],
      "text/plain": [
       "<IPython.core.display.Math object>"
      ]
     },
     "metadata": {},
     "output_type": "display_data"
    },
    {
     "data": {
      "text/latex": [
       "$\\displaystyle \\frac{\\left(1 - \\frac{x^{2}}{2}\\right)^{0.666666666666667} - 1}{x \\log{\\left(x + 1 \\right)}}$"
      ],
      "text/plain": [
       "<IPython.core.display.Math object>"
      ]
     },
     "metadata": {},
     "output_type": "display_data"
    },
    {
     "data": {
      "text/latex": [
       "$\\displaystyle - \\frac{1}{3}$"
      ],
      "text/plain": [
       "<IPython.core.display.Math object>"
      ]
     },
     "metadata": {},
     "output_type": "display_data"
    },
    {
     "name": "stdout",
     "output_type": "stream",
     "text": [
      "\n",
      "*** 2 ***\n"
     ]
    },
    {
     "data": {
      "text/latex": [
       "$\\displaystyle \\sqrt{x + \\sqrt{\\sqrt{x} + x}}$"
      ],
      "text/plain": [
       "<IPython.core.display.Math object>"
      ]
     },
     "metadata": {},
     "output_type": "display_data"
    },
    {
     "data": {
      "text/latex": [
       "$\\displaystyle \\frac{\\frac{\\frac{1}{2} + \\frac{1}{4 \\sqrt{x}}}{2 \\sqrt{\\sqrt{x} + x}} + \\frac{1}{2}}{\\sqrt{x + \\sqrt{\\sqrt{x} + x}}}$"
      ],
      "text/plain": [
       "<IPython.core.display.Math object>"
      ]
     },
     "metadata": {},
     "output_type": "display_data"
    },
    {
     "data": {
      "text/latex": [
       "$\\displaystyle \\sqrt{\\frac{x - 2}{x - 3}}$"
      ],
      "text/plain": [
       "<IPython.core.display.Math object>"
      ]
     },
     "metadata": {},
     "output_type": "display_data"
    },
    {
     "data": {
      "text/latex": [
       "$\\displaystyle \\frac{\\sqrt{\\frac{x - 2}{x - 3}} \\left(x - 3\\right) \\left(\\frac{1}{2 \\left(x - 3\\right)} - \\frac{x - 2}{2 \\left(x - 3\\right)^{2}}\\right)}{x - 2}$"
      ],
      "text/plain": [
       "<IPython.core.display.Math object>"
      ]
     },
     "metadata": {},
     "output_type": "display_data"
    },
    {
     "data": {
      "text/latex": [
       "$\\displaystyle \\left(\\frac{x}{x + 1}\\right)^{x}$"
      ],
      "text/plain": [
       "<IPython.core.display.Math object>"
      ]
     },
     "metadata": {},
     "output_type": "display_data"
    },
    {
     "data": {
      "text/latex": [
       "$\\displaystyle \\left(\\frac{x}{x + 1}\\right)^{x} \\left(\\left(x + 1\\right) \\left(- \\frac{x}{\\left(x + 1\\right)^{2}} + \\frac{1}{x + 1}\\right) + \\log{\\left(\\frac{x}{x + 1} \\right)}\\right)$"
      ],
      "text/plain": [
       "<IPython.core.display.Math object>"
      ]
     },
     "metadata": {},
     "output_type": "display_data"
    },
    {
     "data": {
      "text/latex": [
       "$\\displaystyle \\operatorname{asin}{\\left(\\sqrt{1 - x^{2}} \\right)}$"
      ],
      "text/plain": [
       "<IPython.core.display.Math object>"
      ]
     },
     "metadata": {},
     "output_type": "display_data"
    },
    {
     "data": {
      "text/latex": [
       "$\\displaystyle - \\frac{x}{\\sqrt{1 - x^{2}} \\sqrt{x^{2}}}$"
      ],
      "text/plain": [
       "<IPython.core.display.Math object>"
      ]
     },
     "metadata": {},
     "output_type": "display_data"
    },
    {
     "name": "stdout",
     "output_type": "stream",
     "text": [
      "\n",
      "*** 3 ***\n"
     ]
    },
    {
     "data": {
      "text/latex": [
       "$\\displaystyle 5 x^{3} + 2 x^{2} - 3 x$"
      ],
      "text/plain": [
       "<IPython.core.display.Math object>"
      ]
     },
     "metadata": {},
     "output_type": "display_data"
    },
    {
     "name": "stdout",
     "output_type": "stream",
     "text": [
      "stationary x points: "
     ]
    },
    {
     "data": {
      "text/latex": [
       "$\\displaystyle \\left[ - \\frac{3}{5}, \\  \\frac{1}{3}\\right]$"
      ],
      "text/plain": [
       "<IPython.core.display.Math object>"
      ]
     },
     "metadata": {},
     "output_type": "display_data"
    },
    {
     "name": "stdout",
     "output_type": "stream",
     "text": [
      "y extremums: 36/25 -16/27 \n",
      "zero x points: "
     ]
    },
    {
     "data": {
      "text/latex": [
       "$\\displaystyle \\left[ -1, \\  0, \\  \\frac{3}{5}\\right]$"
      ],
      "text/plain": [
       "<IPython.core.display.Math object>"
      ]
     },
     "metadata": {},
     "output_type": "display_data"
    },
    {
     "name": "stdout",
     "output_type": "stream",
     "text": [
      "\n",
      "inflection x points: "
     ]
    },
    {
     "data": {
      "text/latex": [
       "$\\displaystyle \\left[ - \\frac{2}{15}\\right]$"
      ],
      "text/plain": [
       "<IPython.core.display.Math object>"
      ]
     },
     "metadata": {},
     "output_type": "display_data"
    },
    {
     "name": "stdout",
     "output_type": "stream",
     "text": [
      "when x<-2/15, function line is \"convex\"\n",
      "when x>-2/15, function line is \"concave\"\n"
     ]
    }
   ],
   "source": [
    "from latex_print import *\n",
    "\n",
    "# 2 exercises\n",
    "# 1\n",
    "tl('1')\n",
    "x = Symbol('x')\n",
    "f = (x**3-x**2+x/2)**(1/exp(x)) - sqrt(x**6+1)\n",
    "lprint(f)\n",
    "lprint(limit(f,x,oo))\n",
    "f = sin(x)**(tan(x))\n",
    "lprint(f)\n",
    "lprint(limit(f,x,pi/2))\n",
    "f = ((4*x+3)/(4*x+1))**(2*x+5)\n",
    "lprint(f)\n",
    "lprint(limit(f,x,oo))\n",
    "f = ((1-x**2/2)**(2/3)-1)/(x*ln(1+x))\n",
    "lprint(f)\n",
    "lprint(limit(f,x,0))\n",
    "\n",
    "# 2\n",
    "tl('2')\n",
    "y = sqrt(x+sqrt(x+sqrt(x)))\n",
    "lprint(y)\n",
    "lprint(diff(y,x))\n",
    "y = sqrt((x-2)/(x-3))\n",
    "lprint(y)\n",
    "lprint(diff(y,x))\n",
    "y = (x/(1+x))**x\n",
    "lprint(y)\n",
    "lprint(diff(y,x))\n",
    "y = asin(sqrt(1-x**2))\n",
    "lprint(y)\n",
    "lprint(diff(y,x))\n",
    "\n",
    "# 3\n",
    "tl('3')\n",
    "y = 5*x**3 + 2*x**2 - 3*x\n",
    "lprint(y)\n",
    "df1 = diff(y,x)\n",
    "df2 = diff(y,x,2)\n",
    "print('stationary x points:',end=' ')\n",
    "x1_points = solve(df1,x)\n",
    "lprint(x1_points)\n",
    "print('y extremums:',end=' ')\n",
    "for x1_point in x1_points:\n",
    "    print(y.subs(x,x1_point),end=' ')\n",
    "x_points = solve(y,x)\n",
    "print()\n",
    "print('zero x points:',end=' ')\n",
    "lprint(x_points)\n",
    "x2_points = solve(df2,x)\n",
    "print()\n",
    "print('inflection x points:',end=' ')\n",
    "lprint(x2_points)\n",
    "line = 'convex' if df2.subs(x,x2_points[0]-1) < 0 else 'concave'\n",
    "print(f'when x<{x2_points[0]}, function line is \"{line}\"')\n",
    "line = 'convex' if df2.subs(x,x2_points[0]+1) < 0 else 'concave'\n",
    "print(f'when x>{x2_points[0]}, function line is \"{line}\"')\n",
    "\n",
    "# 4\n",
    "tl('4')\n"
   ]
  }
 ],
 "metadata": {
  "kernelspec": {
   "display_name": "Python 3 (ipykernel)",
   "language": "python",
   "name": "python3"
  },
  "language_info": {
   "codemirror_mode": {
    "name": "ipython",
    "version": 3
   },
   "file_extension": ".py",
   "mimetype": "text/x-python",
   "name": "python",
   "nbconvert_exporter": "python",
   "pygments_lexer": "ipython3",
   "version": "3.12.4"
  }
 },
 "nbformat": 4,
 "nbformat_minor": 5
}
