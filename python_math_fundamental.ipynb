{
 "cells": [
  {
   "cell_type": "code",
   "execution_count": 1,
   "id": "57a0d917-083d-46f0-b0d5-c4b80dad6380",
   "metadata": {},
   "outputs": [],
   "source": [
    "# 《大数据数学基础（Python语言描述）》"
   ]
  },
  {
   "cell_type": "code",
   "execution_count": 28,
   "id": "387d28f6-8e2b-4679-9f83-24648157c059",
   "metadata": {},
   "outputs": [
    {
     "name": "stdout",
     "output_type": "stream",
     "text": [
      "<class 'sympy.core.symbol.Symbol'>\n",
      "一元二次方程的根为： [2, 3]\n",
      "A:  {'2', '1', '5', '4'} \n",
      "B:  {'2', '3'}\n",
      "A|B:  {'1', '5', '3', '4', '2'}\n",
      "A&B:  {'2'}\n",
      "A\\B:  {'1', '5', '4'}\n",
      "<class 'sympy.core.symbol.Symbol'>\n",
      "2-2 limit:  1\n",
      "2-3 limit s:  2.00000000000000\n",
      "2-4 limit s:  1/2\n"
     ]
    }
   ],
   "source": [
    "# 2.1函数与极限\n",
    "from sympy import *\n",
    "x = symbols('x')\n",
    "print(type(x))\n",
    "X = solve(x**2-5*x+6,x)\n",
    "print('一元二次方程的根为：',X)\n",
    "\n",
    "A = set('1245')\n",
    "B = set('23')\n",
    "print('A: ',A,'\\nB: ',B)\n",
    "print('A|B: ', A|B)\n",
    "print('A&B: ', A&B)\n",
    "print(r'A\\B: ', A-B)\n",
    "\n",
    "# sympy.limit(e, z, z0, dir='+') # z -> z0 #求极限\n",
    "# ex.2-2\n",
    "n = Symbol('n')\n",
    "print(type(n))\n",
    "s = n/(n+1)\n",
    "print('2-2 limit: ',limit(s,n,oo)) # n -> oo\n",
    "\n",
    "# ex.2-3\n",
    "x = Symbol('x')\n",
    "s = (1-4*x**2)/(2*x+1)\n",
    "print('2-3 limit s: ',limit(s,x,-1/2)) # x -> -1/2\n",
    "\n",
    "# ex.2-4\n",
    "x = Symbol('x')\n",
    "s = (1+x**3)/(2*x**3)\n",
    "print('2-4 limit s: ',limit(s,x,oo))"
   ]
  },
  {
   "cell_type": "code",
   "execution_count": 35,
   "id": "baeba1e3-1a8a-49e3-a7a9-7d619d587136",
   "metadata": {},
   "outputs": [
    {
     "name": "stdout",
     "output_type": "stream",
     "text": [
      "2-17 sin29°:  0.48480962024633706\n",
      "2-18 1.02**(1/3):  1.006622709560113\n"
     ]
    }
   ],
   "source": [
    "# 2.2\n",
    "# sympy.diff(f, *symbols, **kwargs) #求导\n",
    "# ex.2-5\n",
    "from sympy import *\n",
    "x = Symbol('x')\n",
    "C = 2\n",
    "y = C\n",
    "diff(y,x)\n",
    "\n",
    "# ex.2-6\n",
    "x = Symbol('x')\n",
    "mu = Symbol('mu')\n",
    "y = x**mu\n",
    "init_printing()\n",
    "diff(y,x)\n",
    "\n",
    "# ex.2-7\n",
    "x = Symbol('x')\n",
    "a = Symbol('a')\n",
    "# limit((a**x-1)/x,x,0)\n",
    "y = a**x\n",
    "diff(y,x)\n",
    "\n",
    "# ex.2-8\n",
    "x = Symbol('x')\n",
    "a = Symbol('a')\n",
    "y = log(x,a)\n",
    "diff(y,x)\n",
    "\n",
    "# ex.2-9\n",
    "y = sin(x)\n",
    "diff(y)\n",
    "\n",
    "# ex.2-10\n",
    "y = asin(x)\n",
    "diff(y,x)\n",
    "\n",
    "# ex.2-11\n",
    "u = log(x,2)\n",
    "v = x**2+1\n",
    "y = u+v\n",
    "diff(y,x)\n",
    "y=u-v\n",
    "diff(y,x)\n",
    "y = u*v\n",
    "diff(y,x)\n",
    "y = u/v\n",
    "diff(y,x)\n",
    "\n",
    "# ex.2-12\n",
    "x = Symbol('x')\n",
    "u = Symbol('u')\n",
    "u = x**2\n",
    "y = sin(u)\n",
    "diff(y,x)\n",
    "\n",
    "y = sin(x**2)\n",
    "diff(y,x)\n",
    "\n",
    "# ex.2-13\n",
    "y = log(tan(x))\n",
    "diff(y,x)\n",
    "\n",
    "# ex.2-14\n",
    "y = log(cos(exp(x)))\n",
    "diff(y,x)\n",
    "\n",
    "# ex.2-15\n",
    "x = Symbol('x')\n",
    "y = sin(2*x+1)\n",
    "diff(y,x)\n",
    "\n",
    "# ex.2-16\n",
    "y = log(x+sqrt(x**2+1))\n",
    "diff(y,x)\n",
    "\n",
    "# ex.2-17\n",
    "import numpy as np\n",
    "x = (29/360)*2*np.pi # x=29°\n",
    "y = np.sin(x)\n",
    "print('2-17 sin29°: ',y)\n",
    "\n",
    "# ex.2-18\n",
    "x = 1.02\n",
    "y = x**(1/3)\n",
    "print('2-18 1.02**(1/3): ', y)\n"
   ]
  },
  {
   "cell_type": "code",
   "execution_count": 13,
   "id": "a9caaeaf-14f2-404a-a1a7-a036e26a90f6",
   "metadata": {},
   "outputs": [
    {
     "name": "stdout",
     "output_type": "stream",
     "text": [
      "df2=0, x= [2]\n",
      "y= 2\n",
      "stationary points:  [-3, -7/5, 1]\n",
      "extremums:  0 -35.3894400000000\n"
     ]
    }
   ],
   "source": [
    "# 2.3\n",
    "from sympy import *\n",
    "x,y = symbols('x y')\n",
    "type(x)\n",
    "type(y)\n",
    "\n",
    "# ex.2-19\n",
    "from sympy import *\n",
    "x = Symbol('x')\n",
    "y = 2*x**3-12*x**2+18*x-2\n",
    "df1 = diff(y,x)\n",
    "df1\n",
    "df2 = diff(y,x,2)\n",
    "df2\n",
    "print('df2=0, x=',solve(df2,x))\n",
    "print('y=',y.subs(x,2))\n",
    "\n",
    "# ex.2-20\n",
    "y = (x+3)**2 * (x-1)**3\n",
    "df = diff(y,x)\n",
    "print('stationary points: ',solve(df,x))\n",
    "print('extremums: ',y.subs(x,-3),y.subs(x,-7/5))\n"
   ]
  }
 ],
 "metadata": {
  "kernelspec": {
   "display_name": "Python 3 (ipykernel)",
   "language": "python",
   "name": "python3"
  },
  "language_info": {
   "codemirror_mode": {
    "name": "ipython",
    "version": 3
   },
   "file_extension": ".py",
   "mimetype": "text/x-python",
   "name": "python",
   "nbconvert_exporter": "python",
   "pygments_lexer": "ipython3",
   "version": "3.12.4"
  }
 },
 "nbformat": 4,
 "nbformat_minor": 5
}
