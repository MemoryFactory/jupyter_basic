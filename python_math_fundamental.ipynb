{
 "cells": [
  {
   "cell_type": "markdown",
   "id": "a2ad2f40-4766-4bad-9d36-c9e18fb5a285",
   "metadata": {},
   "source": [
    "# 《大数据数学基础（Python语言描述）》"
   ]
  },
  {
   "cell_type": "markdown",
   "id": "93e98f36-76e7-4769-b552-2a4d913f2bab",
   "metadata": {
    "jp-MarkdownHeadingCollapsed": true
   },
   "source": [
    "## Chapter 2 \n",
    "### . Calculus\n",
    "- `sympy.limit(e, z, z0, dir='+')`\n",
    "\n",
    "> `limit(f,x,oo)` # $\\lim_{x\\to\\infty} f(x)$\n",
    "\n",
    "- `sympy.diff(f, *symbols, **kwargs)`\n",
    "\n",
    "> `diff(f,x)` # $\\frac{df(x)}{dx}$\n",
    "> \n",
    "> `diff(f,x,2)` # $\\frac{d^2 f(x)}{dx^2}$\n",
    "\n",
    "- `sympy.integrate(f, var, ...)`\n",
    "\n",
    "> `integrate(f,x)` # $\\int f(x) \\,dx$\n",
    "\n",
    "- `sympy.integrate(f, (var, a, b))`\n",
    "\n",
    "> `integrate(f,(x,0,1))` # $\\int_0^1 f(x) \\,dx$\n",
    "\n",
    "### . Solve Equations\n",
    "- `solve(f, var)`\n",
    "\n",
    "> `solve(f,x)` # f(x)=0 => x=?\n",
    "\n",
    "- `f.subs(x, a0)`\n",
    "\n",
    "> `f.subs(x,2)` # x=2 => f(2)=?"
   ]
  },
  {
   "cell_type": "code",
   "execution_count": 28,
   "id": "387d28f6-8e2b-4679-9f83-24648157c059",
   "metadata": {},
   "outputs": [
    {
     "name": "stdout",
     "output_type": "stream",
     "text": [
      "<class 'sympy.core.symbol.Symbol'>\n",
      "一元二次方程的根为： [2, 3]\n",
      "A:  {'2', '1', '5', '4'} \n",
      "B:  {'2', '3'}\n",
      "A|B:  {'1', '5', '3', '4', '2'}\n",
      "A&B:  {'2'}\n",
      "A\\B:  {'1', '5', '4'}\n",
      "<class 'sympy.core.symbol.Symbol'>\n",
      "2-2 limit:  1\n",
      "2-3 limit s:  2.00000000000000\n",
      "2-4 limit s:  1/2\n"
     ]
    }
   ],
   "source": [
    "# 2.1函数与极限\n",
    "from sympy import *\n",
    "x = symbols('x')\n",
    "print(type(x))\n",
    "X = solve(x**2-5*x+6,x)\n",
    "print('一元二次方程的根为：',X)\n",
    "\n",
    "A = set('1245')\n",
    "B = set('23')\n",
    "print('A: ',A,'\\nB: ',B)\n",
    "print('A|B: ', A|B)\n",
    "print('A&B: ', A&B)\n",
    "print(r'A\\B: ', A-B)\n",
    "\n",
    "# sympy.limit(e, z, z0, dir='+') # z -> z0 #求极限\n",
    "# ex.2-2\n",
    "n = Symbol('n')\n",
    "print(type(n))\n",
    "s = n/(n+1)\n",
    "print('2-2 limit: ',limit(s,n,oo)) # n -> oo\n",
    "\n",
    "# ex.2-3\n",
    "x = Symbol('x')\n",
    "s = (1-4*x**2)/(2*x+1)\n",
    "print('2-3 limit s: ',limit(s,x,-1/2)) # x -> -1/2\n",
    "\n",
    "# ex.2-4\n",
    "x = Symbol('x')\n",
    "s = (1+x**3)/(2*x**3)\n",
    "print('2-4 limit s: ',limit(s,x,oo))"
   ]
  },
  {
   "cell_type": "code",
   "execution_count": 35,
   "id": "baeba1e3-1a8a-49e3-a7a9-7d619d587136",
   "metadata": {},
   "outputs": [
    {
     "name": "stdout",
     "output_type": "stream",
     "text": [
      "2-17 sin29°:  0.48480962024633706\n",
      "2-18 1.02**(1/3):  1.006622709560113\n"
     ]
    }
   ],
   "source": [
    "# 2.2\n",
    "# sympy.diff(f, *symbols, **kwargs) #求导\n",
    "# ex.2-5\n",
    "from sympy import *\n",
    "x = Symbol('x')\n",
    "C = 2\n",
    "y = C\n",
    "diff(y,x)\n",
    "\n",
    "# ex.2-6\n",
    "x = Symbol('x')\n",
    "mu = Symbol('mu')\n",
    "y = x**mu\n",
    "init_printing()\n",
    "diff(y,x)\n",
    "\n",
    "# ex.2-7\n",
    "x = Symbol('x')\n",
    "a = Symbol('a')\n",
    "# limit((a**x-1)/x,x,0)\n",
    "y = a**x\n",
    "diff(y,x)\n",
    "\n",
    "# ex.2-8\n",
    "x = Symbol('x')\n",
    "a = Symbol('a')\n",
    "y = log(x,a)\n",
    "diff(y,x)\n",
    "\n",
    "# ex.2-9\n",
    "y = sin(x)\n",
    "diff(y)\n",
    "\n",
    "# ex.2-10\n",
    "y = asin(x)\n",
    "diff(y,x)\n",
    "\n",
    "# ex.2-11\n",
    "u = log(x,2)\n",
    "v = x**2+1\n",
    "y = u+v\n",
    "diff(y,x)\n",
    "y=u-v\n",
    "diff(y,x)\n",
    "y = u*v\n",
    "diff(y,x)\n",
    "y = u/v\n",
    "diff(y,x)\n",
    "\n",
    "# ex.2-12\n",
    "x = Symbol('x')\n",
    "u = Symbol('u')\n",
    "u = x**2\n",
    "y = sin(u)\n",
    "diff(y,x)\n",
    "\n",
    "y = sin(x**2)\n",
    "diff(y,x)\n",
    "\n",
    "# ex.2-13\n",
    "y = log(tan(x))\n",
    "diff(y,x)\n",
    "\n",
    "# ex.2-14\n",
    "y = log(cos(exp(x)))\n",
    "diff(y,x)\n",
    "\n",
    "# ex.2-15\n",
    "x = Symbol('x')\n",
    "y = sin(2*x+1)\n",
    "diff(y,x)\n",
    "\n",
    "# ex.2-16\n",
    "y = log(x+sqrt(x**2+1))\n",
    "diff(y,x)\n",
    "\n",
    "# ex.2-17\n",
    "import numpy as np\n",
    "x = (29/360)*2*np.pi # x=29°\n",
    "y = np.sin(x)\n",
    "print('2-17 sin29°: ',y)\n",
    "\n",
    "# ex.2-18\n",
    "x = 1.02\n",
    "y = x**(1/3)\n",
    "print('2-18 1.02**(1/3): ', y)\n"
   ]
  },
  {
   "cell_type": "code",
   "execution_count": 2,
   "id": "a9caaeaf-14f2-404a-a1a7-a036e26a90f6",
   "metadata": {},
   "outputs": [
    {
     "name": "stdout",
     "output_type": "stream",
     "text": [
      "\n",
      "*** 2-19 ***\n",
      "df2=0, x= [2]\n",
      "y= 2\n",
      "\n",
      "*** 2-20 ***\n",
      "stationary points:  [-3, -7/5, 1]\n",
      "extremums:  0 -35.3894400000000\n",
      "\n",
      "*** 2-21 ***\n",
      "f'(x) stationary points:  [0, 2]\n",
      "f(x)= 2*x**3 - 6*x**2 + 7 , f'(x)= 6*x**2 - 12*x , f\"(x)= 12*(x - 1)\n",
      "f\"(0)= -12 , f\"(2)= 12\n",
      "f(0)= 7 , f(2)= -1\n",
      "\n",
      "*** 2-22 ***\n",
      "stationary points: [-1.73205080756888, 1.73205080756888]\n"
     ]
    },
    {
     "data": {
      "text/latex": [
       "$\\displaystyle 2.0 \\sqrt{3} + 24$"
      ],
      "text/plain": [
       "2.0*sqrt(3) + 24"
      ]
     },
     "execution_count": 2,
     "metadata": {},
     "output_type": "execute_result"
    }
   ],
   "source": [
    "# 2.3\n",
    "from sympy import *\n",
    "x,y = symbols('x y')\n",
    "type(x)\n",
    "type(y)\n",
    "\n",
    "# ex.2-19\n",
    "print('\\n*** 2-19 ***')\n",
    "from sympy import *\n",
    "x = Symbol('x')\n",
    "y = 2*x**3-12*x**2+18*x-2\n",
    "df1 = diff(y,x)\n",
    "df1\n",
    "df2 = diff(y,x,2)\n",
    "df2\n",
    "print('df2=0, x=',solve(df2,x))\n",
    "print('y=',y.subs(x,2))\n",
    "\n",
    "# ex.2-20\n",
    "print('\\n*** 2-20 ***')\n",
    "y = (x+3)**2 * (x-1)**3\n",
    "df = diff(y,x)\n",
    "print('stationary points: ',solve(df,x))\n",
    "print('extremums: ',y.subs(x,-3),y.subs(x,-7/5))\n",
    "\n",
    "# ex.2-21\n",
    "print('\\n*** 2-21 ***')\n",
    "y = 2*x**3 - 6*x**2 + 7\n",
    "df = diff(y,x)\n",
    "sp = solve(df,x)\n",
    "print('f\\'(x) stationary points: ',sp)\n",
    "df2 = diff(y,x,2)\n",
    "print('f(x)=',y,', f\\'(x)=',df,', f\"(x)=',df2)\n",
    "print(f'f\"({sp[0]})=',df2.subs(x,sp[0]),f', f\"({sp[1]})=',df2.subs(x,sp[1]))\n",
    "print(f'f({sp[0]})=',y.subs(x,sp[0]),f', f({sp[1]})=',y.subs(x,sp[1]))\n",
    "\n",
    "# ex.2-22\n",
    "print('\\n*** 2-22 ***')\n",
    "y = -1/3*x**3 + 3*x +24\n",
    "df = diff(y,x)\n",
    "sp = solve(df,x) # f'(x)=0\n",
    "print('stationary points:',sp)\n",
    "max(y.subs(x,0),y.subs(x,sqrt(3)),y.subs(x,3))"
   ]
  },
  {
   "cell_type": "markdown",
   "id": "eb82dcab-fd6e-4710-843e-f5509ab595d1",
   "metadata": {},
   "source": [
    "## 2.4\n",
    "`sympy.integrate(f, var, ...)`"
   ]
  },
  {
   "cell_type": "code",
   "execution_count": 66,
   "id": "512ec7eb-9069-4a8f-a811-acabcce30277",
   "metadata": {},
   "outputs": [
    {
     "name": "stdout",
     "output_type": "stream",
     "text": [
      "\n",
      "*** 2-23 ***\n"
     ]
    },
    {
     "data": {
      "text/latex": [
       "$\\displaystyle \\left( \\frac{1}{x^{2} + 1}, \\  - \\frac{1}{x^{2} + 1}\\right)$"
      ],
      "text/plain": [
       "<IPython.core.display.Math object>"
      ]
     },
     "metadata": {},
     "output_type": "display_data"
    },
    {
     "data": {
      "text/latex": [
       "$\\displaystyle \\left( e^{x}, \\  1.0 e^{2 x}\\right)$"
      ],
      "text/plain": [
       "<IPython.core.display.Math object>"
      ]
     },
     "metadata": {},
     "output_type": "display_data"
    },
    {
     "name": "stdout",
     "output_type": "stream",
     "text": [
      "⎛1  1⎞\n",
      "⎜─, ─⎟\n",
      "⎝x  x⎠\n",
      "\n",
      "*** 2-24 ***\n"
     ]
    },
    {
     "data": {
      "text/latex": [
       "$\\displaystyle \\sin{\\left(x \\right)}$"
      ],
      "text/plain": [
       "<IPython.core.display.Math object>"
      ]
     },
     "metadata": {},
     "output_type": "display_data"
    },
    {
     "data": {
      "text/latex": [
       "$\\displaystyle \\operatorname{atan}{\\left(x \\right)}$"
      ],
      "text/plain": [
       "<IPython.core.display.Math object>"
      ]
     },
     "metadata": {},
     "output_type": "display_data"
    },
    {
     "data": {
      "text/latex": [
       "$\\displaystyle x^{3}$"
      ],
      "text/plain": [
       "<IPython.core.display.Math object>"
      ]
     },
     "metadata": {},
     "output_type": "display_data"
    },
    {
     "name": "stdout",
     "output_type": "stream",
     "text": [
      "\n",
      "*** 2-25 ***\n"
     ]
    },
    {
     "data": {
      "text/latex": [
       "$\\displaystyle \\log{\\left(x \\right)}$"
      ],
      "text/plain": [
       "<IPython.core.display.Math object>"
      ]
     },
     "metadata": {},
     "output_type": "display_data"
    },
    {
     "data": {
      "text/latex": [
       "$\\displaystyle \\log{\\left(x \\right)} + 1$"
      ],
      "text/plain": [
       "<IPython.core.display.Math object>"
      ]
     },
     "metadata": {},
     "output_type": "display_data"
    },
    {
     "name": "stdout",
     "output_type": "stream",
     "text": [
      "\n",
      "*** 2-26 ***\n"
     ]
    },
    {
     "data": {
      "text/latex": [
       "$\\displaystyle e^{x} - 3 \\sin{\\left(x \\right)}$"
      ],
      "text/plain": [
       "<IPython.core.display.Math object>"
      ]
     },
     "metadata": {},
     "output_type": "display_data"
    },
    {
     "data": {
      "text/latex": [
       "$\\displaystyle e^{x} - 3 \\sin{\\left(x \\right)}$"
      ],
      "text/plain": [
       "<IPython.core.display.Math object>"
      ]
     },
     "metadata": {},
     "output_type": "display_data"
    },
    {
     "name": "stdout",
     "output_type": "stream",
     "text": [
      "\n",
      "*** 2-27 ***\n"
     ]
    },
    {
     "data": {
      "text/latex": [
       "$\\displaystyle 3 x \\log{\\left(x \\right)} - 3 x$"
      ],
      "text/plain": [
       "<IPython.core.display.Math object>"
      ]
     },
     "metadata": {},
     "output_type": "display_data"
    },
    {
     "data": {
      "text/latex": [
       "$\\displaystyle 3 x \\log{\\left(x \\right)} - 3 x$"
      ],
      "text/plain": [
       "<IPython.core.display.Math object>"
      ]
     },
     "metadata": {},
     "output_type": "display_data"
    },
    {
     "name": "stdout",
     "output_type": "stream",
     "text": [
      "\n",
      "*** 2-28 ***\n",
      "f : x**3 - 15*x**2 + 75*x - 125\n",
      "F : x**4/4 - 5*x**3 + 75*x**2/2 - 125*x\n",
      "dF: x**3 - 15*x**2 + 75*x - 125\n",
      "\n",
      "*** 2-29 ***\n"
     ]
    },
    {
     "data": {
      "text/latex": [
       "$\\displaystyle - \\frac{- 2 x^{2} - 3}{x^{3} + 1}$"
      ],
      "text/plain": [
       "<IPython.core.display.Math object>"
      ]
     },
     "metadata": {},
     "output_type": "display_data"
    },
    {
     "name": "stdout",
     "output_type": "stream",
     "text": [
      "\n",
      "\n",
      "*** 2-30 ***\n"
     ]
    },
    {
     "data": {
      "text/latex": [
       "$\\displaystyle - \\frac{2 \\sqrt{4 - x^{3}}}{3}$"
      ],
      "text/plain": [
       "<IPython.core.display.Math object>"
      ]
     },
     "metadata": {},
     "output_type": "display_data"
    },
    {
     "name": "stdout",
     "output_type": "stream",
     "text": [
      "\n",
      "*** 2-31 ***\n"
     ]
    },
    {
     "data": {
      "text/latex": [
       "$\\displaystyle \\left(- x - 1\\right) e^{- x - 1}$"
      ],
      "text/plain": [
       "<IPython.core.display.Math object>"
      ]
     },
     "metadata": {},
     "output_type": "display_data"
    }
   ],
   "source": [
    "# 2.4\n",
    "from sympy import *\n",
    "from IPython.display import Math,display\n",
    "\n",
    "def lprint(math):\n",
    "    lmath = latex(math)\n",
    "    display(Math(lmath))\n",
    "\n",
    "def tl(ex):\n",
    "    print(f'\\n*** {ex} ***')\n",
    "\n",
    "init_printing()\n",
    "\n",
    "# ex.2-23\n",
    "tl('2-23')\n",
    "x = Symbol('x')\n",
    "lprint((diff(atan(x),x), diff(acot(x),x)))\n",
    "lprint((diff(exp(x),x),diff(1/2*exp(2*x),x)))\n",
    "pprint((diff(log(2*x),x),diff(log(x),x)))\n",
    "\n",
    "# sympy.integrate(f, var, ...) #\n",
    "\n",
    "# ex.2-24\n",
    "tl('2-24')\n",
    "f = cos(x)\n",
    "lprint(integrate(f,x))\n",
    "f = 1/(1+x**2)\n",
    "lprint(integrate(f,x))\n",
    "f = 3*x**2\n",
    "lprint(integrate(f,x))\n",
    "\n",
    "# ex.2-25\n",
    "tl('2-25')\n",
    "f = 1/x\n",
    "F = integrate(f,x)\n",
    "lprint(F) # ln(x)\n",
    "C = 3-F.subs(x,exp(2))\n",
    "lprint(F+C)\n",
    "\n",
    "# ex.2-26\n",
    "tl('2-26')\n",
    "f = exp(x)\n",
    "g = -3*cos(x)\n",
    "lprint(integrate(f+g,x))\n",
    "lprint(integrate(f,x) + integrate(g,x))\n",
    "\n",
    "# ex.2-27\n",
    "tl('2-27')\n",
    "f = log(x)\n",
    "k = 3\n",
    "lprint(integrate(k*f,x))\n",
    "lprint(k*integrate(f,x))\n",
    "\n",
    "# ex.2-28\n",
    "tl('2-28')\n",
    "f = (x-5)**3\n",
    "print('f :',expand(f))\n",
    "F = integrate(f,x)\n",
    "print('F :',F)\n",
    "print('dF:',diff(F,x))\n",
    "\n",
    "# ex.2-29\n",
    "tl('2-29')\n",
    "f = (2*x**2+3)/(x**3+1)\n",
    "lprint(integrate(diff(f,x),x))\n",
    "\n",
    "print()\n",
    "integrate(exp(x**2))\n",
    "integrate(1/log(x))\n",
    "integrate(sin(x)/x)\n",
    "\n",
    "# ex.2-30\n",
    "tl('2-30')\n",
    "y = x**2/sqrt(4-x**3)\n",
    "lprint(integrate(y,x))\n",
    "\n",
    "# ex.2-31\n",
    "tl('2-31')\n",
    "f = x*exp(-x-1)\n",
    "lprint(integrate(f,x))"
   ]
  },
  {
   "cell_type": "code",
   "execution_count": 16,
   "id": "9f05d733-a873-4329-bbd6-b54d8439e9dc",
   "metadata": {},
   "outputs": [
    {
     "name": "stdout",
     "output_type": "stream",
     "text": [
      "\n",
      "*** 2-32 ***\n"
     ]
    },
    {
     "data": {
      "text/latex": [
       "$\\displaystyle - \\frac{a^{3}}{3} - a + \\frac{b^{3}}{3} + b$"
      ],
      "text/plain": [
       "<IPython.core.display.Math object>"
      ]
     },
     "metadata": {},
     "output_type": "display_data"
    },
    {
     "name": "stdout",
     "output_type": "stream",
     "text": [
      "\n",
      "*** 2-33 ***\n"
     ]
    },
    {
     "data": {
      "text/latex": [
       "$\\displaystyle 2$"
      ],
      "text/plain": [
       "<IPython.core.display.Math object>"
      ]
     },
     "metadata": {},
     "output_type": "display_data"
    },
    {
     "data": {
      "text/latex": [
       "$\\displaystyle -5 + 5 \\log{\\left(5 \\right)}$"
      ],
      "text/plain": [
       "<IPython.core.display.Math object>"
      ]
     },
     "metadata": {},
     "output_type": "display_data"
    },
    {
     "name": "stdout",
     "output_type": "stream",
     "text": [
      "\n",
      "*** 2-34 ***\n"
     ]
    },
    {
     "data": {
      "text/latex": [
       "$\\displaystyle \\frac{\\log{\\left(x \\right)}^{4}}{x}$"
      ],
      "text/plain": [
       "<IPython.core.display.Math object>"
      ]
     },
     "metadata": {},
     "output_type": "display_data"
    },
    {
     "data": {
      "text/latex": [
       "$\\displaystyle \\frac{1}{5}$"
      ],
      "text/plain": [
       "<IPython.core.display.Math object>"
      ]
     },
     "metadata": {},
     "output_type": "display_data"
    },
    {
     "name": "stdout",
     "output_type": "stream",
     "text": [
      "\n",
      "*** 2-35 ***\n",
      "- \\frac{1}{2} + \\frac{5 e^{2}}{2}\n"
     ]
    },
    {
     "data": {
      "text/latex": [
       "$\\displaystyle - \\frac{1}{2} + \\frac{5 e^{2}}{2}$"
      ],
      "text/plain": [
       "<IPython.core.display.Math object>"
      ]
     },
     "metadata": {},
     "output_type": "display_data"
    }
   ],
   "source": [
    "# 2.4.3\n",
    "from latex_print import *\n",
    "\n",
    "# ex.2-32\n",
    "tl('2-32')\n",
    "x,a,b = symbols('x a b')\n",
    "y = x**2+1\n",
    "lprint(integrate(y,(x,a,b)))\n",
    "\n",
    "# ex.2-33\n",
    "tl('2-33')\n",
    "lprint(integrate(sin(x),(x,0,pi)))\n",
    "lprint(integrate(log(x),(x,0,5)))\n",
    "\n",
    "# 2.4.4\n",
    "# ex.2-34\n",
    "tl('2-34')\n",
    "f = (ln(x))**4/x\n",
    "lprint(f)\n",
    "lprint(integrate(f,(x,1,exp(1))))\n",
    "\n",
    "# ex.2-35\n",
    "tl('2-35')\n",
    "f = exp(2*x)*(4*x+3)\n",
    "print(latex(integrate(f,(x,0,1))))\n",
    "lprint(integrate(f,(x,0,1)))"
   ]
  },
  {
   "cell_type": "code",
   "execution_count": 1,
   "id": "89d9f99f-43ad-4f29-9db5-a4c2f4e06e31",
   "metadata": {},
   "outputs": [
    {
     "name": "stdout",
     "output_type": "stream",
     "text": [
      "\n",
      "*** 1 ***\n"
     ]
    },
    {
     "data": {
      "text/latex": [
       "$\\displaystyle - \\sqrt{x^{6} + 1} + \\left(x^{3} - x^{2} + \\frac{x}{2}\\right)^{e^{- x}}$"
      ],
      "text/plain": [
       "<IPython.core.display.Math object>"
      ]
     },
     "metadata": {},
     "output_type": "display_data"
    },
    {
     "data": {
      "text/latex": [
       "$\\displaystyle -\\infty$"
      ],
      "text/plain": [
       "<IPython.core.display.Math object>"
      ]
     },
     "metadata": {},
     "output_type": "display_data"
    },
    {
     "data": {
      "text/latex": [
       "$\\displaystyle \\sin^{\\tan{\\left(x \\right)}}{\\left(x \\right)}$"
      ],
      "text/plain": [
       "<IPython.core.display.Math object>"
      ]
     },
     "metadata": {},
     "output_type": "display_data"
    },
    {
     "data": {
      "text/latex": [
       "$\\displaystyle 1$"
      ],
      "text/plain": [
       "<IPython.core.display.Math object>"
      ]
     },
     "metadata": {},
     "output_type": "display_data"
    },
    {
     "data": {
      "text/latex": [
       "$\\displaystyle \\left(\\frac{4 x + 3}{4 x + 1}\\right)^{2 x + 5}$"
      ],
      "text/plain": [
       "<IPython.core.display.Math object>"
      ]
     },
     "metadata": {},
     "output_type": "display_data"
    },
    {
     "data": {
      "text/latex": [
       "$\\displaystyle e$"
      ],
      "text/plain": [
       "<IPython.core.display.Math object>"
      ]
     },
     "metadata": {},
     "output_type": "display_data"
    },
    {
     "data": {
      "text/latex": [
       "$\\displaystyle \\frac{\\left(1 - \\frac{x^{2}}{2}\\right)^{0.666666666666667} - 1}{x \\log{\\left(x + 1 \\right)}}$"
      ],
      "text/plain": [
       "<IPython.core.display.Math object>"
      ]
     },
     "metadata": {},
     "output_type": "display_data"
    },
    {
     "data": {
      "text/latex": [
       "$\\displaystyle - \\frac{1}{3}$"
      ],
      "text/plain": [
       "<IPython.core.display.Math object>"
      ]
     },
     "metadata": {},
     "output_type": "display_data"
    },
    {
     "name": "stdout",
     "output_type": "stream",
     "text": [
      "\n",
      "*** 2 ***\n"
     ]
    },
    {
     "data": {
      "text/latex": [
       "$\\displaystyle \\sqrt{x + \\sqrt{\\sqrt{x} + x}}$"
      ],
      "text/plain": [
       "<IPython.core.display.Math object>"
      ]
     },
     "metadata": {},
     "output_type": "display_data"
    },
    {
     "data": {
      "text/latex": [
       "$\\displaystyle \\frac{\\frac{\\frac{1}{2} + \\frac{1}{4 \\sqrt{x}}}{2 \\sqrt{\\sqrt{x} + x}} + \\frac{1}{2}}{\\sqrt{x + \\sqrt{\\sqrt{x} + x}}}$"
      ],
      "text/plain": [
       "<IPython.core.display.Math object>"
      ]
     },
     "metadata": {},
     "output_type": "display_data"
    },
    {
     "data": {
      "text/latex": [
       "$\\displaystyle \\sqrt{\\frac{x - 2}{x - 3}}$"
      ],
      "text/plain": [
       "<IPython.core.display.Math object>"
      ]
     },
     "metadata": {},
     "output_type": "display_data"
    },
    {
     "data": {
      "text/latex": [
       "$\\displaystyle \\frac{\\sqrt{\\frac{x - 2}{x - 3}} \\left(x - 3\\right) \\left(\\frac{1}{2 \\left(x - 3\\right)} - \\frac{x - 2}{2 \\left(x - 3\\right)^{2}}\\right)}{x - 2}$"
      ],
      "text/plain": [
       "<IPython.core.display.Math object>"
      ]
     },
     "metadata": {},
     "output_type": "display_data"
    },
    {
     "data": {
      "text/latex": [
       "$\\displaystyle \\left(\\frac{x}{x + 1}\\right)^{x}$"
      ],
      "text/plain": [
       "<IPython.core.display.Math object>"
      ]
     },
     "metadata": {},
     "output_type": "display_data"
    },
    {
     "data": {
      "text/latex": [
       "$\\displaystyle \\left(\\frac{x}{x + 1}\\right)^{x} \\left(\\left(x + 1\\right) \\left(- \\frac{x}{\\left(x + 1\\right)^{2}} + \\frac{1}{x + 1}\\right) + \\log{\\left(\\frac{x}{x + 1} \\right)}\\right)$"
      ],
      "text/plain": [
       "<IPython.core.display.Math object>"
      ]
     },
     "metadata": {},
     "output_type": "display_data"
    },
    {
     "data": {
      "text/latex": [
       "$\\displaystyle \\operatorname{asin}{\\left(\\sqrt{1 - x^{2}} \\right)}$"
      ],
      "text/plain": [
       "<IPython.core.display.Math object>"
      ]
     },
     "metadata": {},
     "output_type": "display_data"
    },
    {
     "data": {
      "text/latex": [
       "$\\displaystyle - \\frac{x}{\\sqrt{1 - x^{2}} \\sqrt{x^{2}}}$"
      ],
      "text/plain": [
       "<IPython.core.display.Math object>"
      ]
     },
     "metadata": {},
     "output_type": "display_data"
    },
    {
     "name": "stdout",
     "output_type": "stream",
     "text": [
      "\n",
      "*** 3 ***\n"
     ]
    },
    {
     "data": {
      "text/latex": [
       "$\\displaystyle 5 x^{3} + 2 x^{2} - 3 x$"
      ],
      "text/plain": [
       "<IPython.core.display.Math object>"
      ]
     },
     "metadata": {},
     "output_type": "display_data"
    },
    {
     "name": "stdout",
     "output_type": "stream",
     "text": [
      "stationary x points: "
     ]
    },
    {
     "data": {
      "text/latex": [
       "$\\displaystyle \\left[ - \\frac{3}{5}, \\  \\frac{1}{3}\\right]$"
      ],
      "text/plain": [
       "<IPython.core.display.Math object>"
      ]
     },
     "metadata": {},
     "output_type": "display_data"
    },
    {
     "name": "stdout",
     "output_type": "stream",
     "text": [
      "y extremums: 36/25 -16/27 \n",
      "zero x points: "
     ]
    },
    {
     "data": {
      "text/latex": [
       "$\\displaystyle \\left[ -1, \\  0, \\  \\frac{3}{5}\\right]$"
      ],
      "text/plain": [
       "<IPython.core.display.Math object>"
      ]
     },
     "metadata": {},
     "output_type": "display_data"
    },
    {
     "name": "stdout",
     "output_type": "stream",
     "text": [
      "\n",
      "inflection x points: "
     ]
    },
    {
     "data": {
      "text/latex": [
       "$\\displaystyle \\left[ - \\frac{2}{15}\\right]$"
      ],
      "text/plain": [
       "<IPython.core.display.Math object>"
      ]
     },
     "metadata": {},
     "output_type": "display_data"
    },
    {
     "name": "stdout",
     "output_type": "stream",
     "text": [
      "when x<-2/15, function line is \"convex\"\n",
      "when x>-2/15, function line is \"concave\"\n",
      "\n",
      "*** 4 ***\n"
     ]
    },
    {
     "data": {
      "text/latex": [
       "$\\displaystyle \\left[ 2\\right]$"
      ],
      "text/plain": [
       "<IPython.core.display.Math object>"
      ]
     },
     "metadata": {},
     "output_type": "display_data"
    },
    {
     "data": {
      "text/latex": [
       "$\\displaystyle 20$"
      ],
      "text/plain": [
       "<IPython.core.display.Math object>"
      ]
     },
     "metadata": {},
     "output_type": "display_data"
    },
    {
     "name": "stdout",
     "output_type": "stream",
     "text": [
      "\n",
      "*** 5 ***\n"
     ]
    },
    {
     "data": {
      "text/latex": [
       "$\\displaystyle \\frac{\\sin{\\left(x \\right)}}{\\sin{\\left(x \\right)} + \\cos{\\left(x \\right)} + 1}$"
      ],
      "text/plain": [
       "<IPython.core.display.Math object>"
      ]
     },
     "metadata": {},
     "output_type": "display_data"
    },
    {
     "data": {
      "text/latex": [
       "$\\displaystyle \\frac{x}{2} - \\log{\\left(\\tan{\\left(\\frac{x}{2} \\right)} + 1 \\right)} + \\frac{\\log{\\left(\\tan^{2}{\\left(\\frac{x}{2} \\right)} + 1 \\right)}}{2}$"
      ],
      "text/plain": [
       "<IPython.core.display.Math object>"
      ]
     },
     "metadata": {},
     "output_type": "display_data"
    },
    {
     "data": {
      "text/latex": [
       "$\\displaystyle \\frac{\\sqrt{\\frac{x + 1}{x}}}{x}$"
      ],
      "text/plain": [
       "<IPython.core.display.Math object>"
      ]
     },
     "metadata": {},
     "output_type": "display_data"
    },
    {
     "data": {
      "text/latex": [
       "$\\displaystyle - 2 \\sqrt{1 + \\frac{1}{x}} - \\log{\\left(\\sqrt{1 + \\frac{1}{x}} - 1 \\right)} + \\log{\\left(\\sqrt{1 + \\frac{1}{x}} + 1 \\right)}$"
      ],
      "text/plain": [
       "<IPython.core.display.Math object>"
      ]
     },
     "metadata": {},
     "output_type": "display_data"
    },
    {
     "data": {
      "text/latex": [
       "$\\displaystyle \\frac{x^{0.2} + x^{1.16666666666667}}{\\sqrt{x}}$"
      ],
      "text/plain": [
       "<IPython.core.display.Math object>"
      ]
     },
     "metadata": {},
     "output_type": "display_data"
    },
    {
     "data": {
      "text/latex": [
       "$\\displaystyle 1.42857142857143 x^{0.7} + 0.6 x^{1.66666666666667}$"
      ],
      "text/plain": [
       "<IPython.core.display.Math object>"
      ]
     },
     "metadata": {},
     "output_type": "display_data"
    },
    {
     "data": {
      "text/latex": [
       "$\\displaystyle e^{2 x} \\sin{\\left(3 x \\right)}$"
      ],
      "text/plain": [
       "<IPython.core.display.Math object>"
      ]
     },
     "metadata": {},
     "output_type": "display_data"
    },
    {
     "data": {
      "text/latex": [
       "$\\displaystyle \\frac{2 e^{2 x} \\sin{\\left(3 x \\right)}}{13} - \\frac{3 e^{2 x} \\cos{\\left(3 x \\right)}}{13}$"
      ],
      "text/plain": [
       "<IPython.core.display.Math object>"
      ]
     },
     "metadata": {},
     "output_type": "display_data"
    },
    {
     "name": "stdout",
     "output_type": "stream",
     "text": [
      "\n",
      "*** 6 ***\n"
     ]
    },
    {
     "data": {
      "text/latex": [
       "$\\displaystyle 1 - \\sin^{3}{\\left(x \\right)}$"
      ],
      "text/plain": [
       "<IPython.core.display.Math object>"
      ]
     },
     "metadata": {},
     "output_type": "display_data"
    },
    {
     "data": {
      "text/latex": [
       "$\\displaystyle - \\frac{4}{3} + \\pi$"
      ],
      "text/plain": [
       "<IPython.core.display.Math object>"
      ]
     },
     "metadata": {},
     "output_type": "display_data"
    },
    {
     "data": {
      "text/latex": [
       "$\\displaystyle \\frac{x + 2}{x^{2} + 2 x + 2}$"
      ],
      "text/plain": [
       "<IPython.core.display.Math object>"
      ]
     },
     "metadata": {},
     "output_type": "display_data"
    },
    {
     "data": {
      "text/latex": [
       "$\\displaystyle \\frac{\\pi}{2}$"
      ],
      "text/plain": [
       "<IPython.core.display.Math object>"
      ]
     },
     "metadata": {},
     "output_type": "display_data"
    },
    {
     "data": {
      "text/latex": [
       "$\\displaystyle \\sin{\\left(\\log{\\left(x \\right)} \\right)}$"
      ],
      "text/plain": [
       "<IPython.core.display.Math object>"
      ]
     },
     "metadata": {},
     "output_type": "display_data"
    },
    {
     "data": {
      "text/latex": [
       "$\\displaystyle - \\frac{e \\cos{\\left(1 \\right)}}{2} + \\frac{1}{2} + \\frac{e \\sin{\\left(1 \\right)}}{2}$"
      ],
      "text/plain": [
       "<IPython.core.display.Math object>"
      ]
     },
     "metadata": {},
     "output_type": "display_data"
    },
    {
     "data": {
      "text/latex": [
       "$\\displaystyle e^{\\sqrt{x}}$"
      ],
      "text/plain": [
       "<IPython.core.display.Math object>"
      ]
     },
     "metadata": {},
     "output_type": "display_data"
    },
    {
     "data": {
      "text/latex": [
       "$\\displaystyle 2$"
      ],
      "text/plain": [
       "<IPython.core.display.Math object>"
      ]
     },
     "metadata": {},
     "output_type": "display_data"
    }
   ],
   "source": [
    "from latex_print import *\n",
    "\n",
    "# 2 exercises\n",
    "# 1\n",
    "tl('1')\n",
    "x = Symbol('x')\n",
    "f = (x**3-x**2+x/2)**(1/exp(x)) - sqrt(x**6+1)\n",
    "lprint(f)\n",
    "lprint(limit(f,x,oo))\n",
    "f = sin(x)**(tan(x))\n",
    "lprint(f)\n",
    "lprint(limit(f,x,pi/2))\n",
    "f = ((4*x+3)/(4*x+1))**(2*x+5)\n",
    "lprint(f)\n",
    "lprint(limit(f,x,oo))\n",
    "f = ((1-x**2/2)**(2/3)-1)/(x*ln(1+x))\n",
    "lprint(f)\n",
    "lprint(limit(f,x,0))\n",
    "\n",
    "# 2\n",
    "tl('2')\n",
    "y = sqrt(x+sqrt(x+sqrt(x)))\n",
    "lprint(y)\n",
    "lprint(diff(y,x))\n",
    "y = sqrt((x-2)/(x-3))\n",
    "lprint(y)\n",
    "lprint(diff(y,x))\n",
    "y = (x/(1+x))**x\n",
    "lprint(y)\n",
    "lprint(diff(y,x))\n",
    "y = asin(sqrt(1-x**2))\n",
    "lprint(y)\n",
    "lprint(diff(y,x))\n",
    "\n",
    "# 3\n",
    "tl('3')\n",
    "y = 5*x**3 + 2*x**2 - 3*x\n",
    "lprint(y)\n",
    "df1 = diff(y,x)\n",
    "df2 = diff(y,x,2)\n",
    "print('stationary x points:',end=' ') # 极值点x坐标值\n",
    "x1_points = solve(df1,x)\n",
    "lprint(x1_points)\n",
    "print('y extremums:',end=' ') # 极值点y坐标值\n",
    "for x1_point in x1_points:\n",
    "    print(y.subs(x,x1_point),end=' ')\n",
    "x_points = solve(y,x)\n",
    "print()\n",
    "print('zero x points:',end=' ') # y=0时x坐标值\n",
    "lprint(x_points)\n",
    "x2_points = solve(df2,x)\n",
    "print()\n",
    "print('inflection x points:',end=' ') # 拐点x坐标值\n",
    "lprint(x2_points)\n",
    "line = 'convex' if df2.subs(x,x2_points[0]-1) < 0 else 'concave'\n",
    "print(f'when x<{x2_points[0]}, function line is \"{line}\"')\n",
    "line = 'convex' if df2.subs(x,x2_points[0]+1) < 0 else 'concave'\n",
    "print(f'when x>{x2_points[0]}, function line is \"{line}\"')\n",
    "\n",
    "# 4\n",
    "tl('4')\n",
    "t = Symbol('t')\n",
    "h = 5*t*(4-t)\n",
    "df = diff(h,t)\n",
    "t1 = solve(df,t)\n",
    "lprint(t1)\n",
    "lprint(h.subs(t,t1[0]))\n",
    "\n",
    "# 5\n",
    "tl('5')\n",
    "x = Symbol('x')\n",
    "y = sin(x)/(1+sin(x)+cos(x))\n",
    "lprint(y)\n",
    "lprint(integrate(y,x))\n",
    "y = 1/x*sqrt((1+x)/x)\n",
    "lprint(y)\n",
    "lprint(integrate(y,x))\n",
    "y = (x**(2/3)*sqrt(x)+x**(1/5))/sqrt(x)\n",
    "lprint(y)\n",
    "lprint(integrate(y,x))\n",
    "y = exp(2*x)*sin(3*x)\n",
    "lprint(y)\n",
    "lprint(integrate(y,x))\n",
    "\n",
    "# 6 \n",
    "tl('6')\n",
    "y = 1-sin(x)**3\n",
    "lprint(y)\n",
    "lprint(integrate(y,(x,0,pi)))\n",
    "y = (x+2)/(x**2+2*x+2)\n",
    "lprint(y)\n",
    "lprint(integrate(y,(x,-2,0)))\n",
    "y = sin(ln(x))\n",
    "lprint(y)\n",
    "lprint(integrate(y,(x,1,exp(1))))\n",
    "y = exp(sqrt(x))\n",
    "lprint(y)\n",
    "lprint(integrate(y,(x,0,1)))"
   ]
  },
  {
   "cell_type": "markdown",
   "id": "4a09e640-c9c2-410a-88c8-c65d28feac6e",
   "metadata": {},
   "source": [
    "## Chapter 3 Probability Theory and Mathematical Statistics\n",
    "\n",
    "### 3.1\n",
    "\n",
    "#### . Location Parameter 位置平均数\n",
    "- `scipy.stats.mode(a, axis=0, nan_policy='propagate')`\n",
    "\n",
    "- `numpy.median(a, axis=None, out=None, overwrite_input=False, keepdims=False)`\n",
    "\n",
    "- `scipy.stats.scoreatpercentile(a, per, limit=(), interpolation_method='fraction', axis=None)`\n",
    "\n",
    "- `scipy.stats.percentileofscore(a, score, kind='rank')`\n",
    "\n",
    "#### . Average 数值平均数\n",
    "- `scipy.stats.tmean(a, limits=None, inclusive=(True, True), axis=None)`\n",
    "\n",
    "- `numpy.mean(a, axis=None, dtype=None, out=None, keepdims=<class numpy._globals._NoValue>)`\n",
    "\n",
    "- `scipy.stats.hmean(a, axis=0, dtype=None)`\n",
    "\n",
    "- `scipy.stats.gmean(a, axis=0, dtype=None)`\n",
    "\n",
    "#### . Range 极差\n",
    "- `numpy.ptp(a, axis=None, out=None)`\n",
    "\n",
    "#### . Variance & Standard Deviation 方差&标准差\n",
    "- `scipy.stats.tvar(a, limit=None, inclusive=(True, True), axis=0, ddof=1)`\n",
    "\n",
    "- `numpy.var(a, axis=None, dtype=None, out=None, ddof=0, keepdims=<class numpy._globals._NoValue>)`\n",
    "\n",
    "- `scipy.stats.tstd(a, limits=None, inclusive=(True, True), axis=0, ddof=1)`\n",
    "\n",
    "- `numpy.std(a, axis=None, dtype=None, out=None, ddof=0, keepdims=<class nmupy._globals._NoValue>)`\n",
    "\n",
    "#### . Skewness 偏度\n",
    "- `scipy.stats.skew(a, axis=0, bias=True, nan_policy='propagate')`\n",
    "\n",
    "#### . Kurtosis\n",
    "- `scipy.stats.kurtosis(a, axis=0, fisher=True, bias=True, nan_policy='propagate')`"
   ]
  },
  {
   "cell_type": "code",
   "execution_count": 2,
   "id": "d77a2a04-19a3-4eed-ae83-3d8e6a623775",
   "metadata": {},
   "outputs": [
    {
     "name": "stdout",
     "output_type": "stream",
     "text": [
      "\n",
      "*** 3-1 ***\n",
      "Mode is:  ModeResult(mode=2006.0, count=19)\n",
      "\n",
      "*** 3-2 ***\n",
      "Median is:  2001.0\n",
      "\n",
      "*** 3-3 ***\n",
      "Number of low quartile (Q1) is:  1988.0\n",
      "Number of upper quartile (Q3) is:  2014.0\n",
      "\n",
      "*** 3-4 ***\n",
      "Quartile of \"2014.0\" is:  76.10000000000001 %\n",
      "\n",
      "*** 3-5 ***\n",
      "simple average:  2001.174\n",
      "simple average:  2001.174\n",
      "\n",
      "*** 3-6 ***\n",
      "Harmonic mean:  2001.0674957969295\n",
      "\n",
      "*** 3-7 ***\n",
      "Geometric mean:  2001.1207537119913\n",
      "\n",
      "*** 3-8 ***\n",
      "Range:  49.0\n",
      "\n",
      "*** 3-9 ***\n",
      "Interquartile Range:  26.0\n",
      "\n",
      "*** 3-10 ***\n",
      "Sample Variance:  213.48669739478956\n",
      "Variance:  213.059724\n",
      "\n",
      "*** 3-11 ***\n",
      "Standard Deviation:  14.61118398333241\n",
      "Std:  14.59656548644235\n",
      "\n",
      "*** 3-12 ***\n",
      "Coefficient of Variation:  0.0073013061249708475\n",
      "\n",
      "*** 3-13 ***\n",
      "Skewness:  -0.04153020156952192\n",
      "\n",
      "*** 3-14 ***\n",
      "Kurtosis:  -1.1913054648251686\n"
     ]
    }
   ],
   "source": [
    "from latex_print import *\n",
    "import random\n",
    "\n",
    "# 3.1.1\n",
    "\n",
    "# Location Parameter\n",
    "# ex.3-1\n",
    "tl('3-1')\n",
    "from scipy import stats as sts\n",
    "import numpy as np\n",
    "data = np.loadtxt('./temp/data.csv',delimiter=',')\n",
    "# print(data)\n",
    "print('Mode is: ',sts.mode(data,axis=None))\n",
    "# ex.3-2\n",
    "tl('3-2')\n",
    "print('Median is: ',np.median(data))\n",
    "# ex.3-3\n",
    "tl('3-3')\n",
    "print('Number of low quartile (Q1) is: ', sts.scoreatpercentile(data,25,interpolation_method='lower'))\n",
    "print('Number of upper quartile (Q3) is: ', sts.scoreatpercentile(data,75,interpolation_method='lower'))\n",
    "# ex.3-4\n",
    "tl('3-4')\n",
    "value=random.choice(data)\n",
    "print(f'Quartile of \"{value}\" is: ', sts.percentileofscore(data,value), '%')\n",
    "\n",
    "# Average\n",
    "# ex.3-5\n",
    "tl('3-5')\n",
    "print('simple average: ',sts.tmean(data))\n",
    "print('simple average: ',np.mean(data))\n",
    "# ex.3-6\n",
    "tl('3-6')\n",
    "print('Harmonic mean: ',sts.hmean(data))\n",
    "# ex.3-7\n",
    "tl('3-7')\n",
    "print('Geometric mean: ',sts.gmean(data))\n",
    "\n",
    "# 3.1.2\n",
    "\n",
    "# ex.3-8\n",
    "tl('3-8')\n",
    "print('Range: ',np.ptp(data))\n",
    "# ex.3-9\n",
    "tl('3-9')\n",
    "print('Interquartile Range: ', sts.scoreatpercentile(data,75,interpolation_method='lower') - sts.scoreatpercentile(data,25,interpolation_method='lower'))\n",
    "# ex.3-10\n",
    "tl('3-10')\n",
    "print('Sample Variance: ',sts.tvar(data))\n",
    "print('Variance: ',np.var(data))\n",
    "# ex.3-11\n",
    "tl('3-11')\n",
    "print('Standard Deviation: ',sts.tstd(data))\n",
    "print('Std: ',np.std(data))\n",
    "# ex.3-12\n",
    "tl('3-12')\n",
    "print('Coefficient of Variation: ',sts.tstd(data)/sts.tmean(data))\n",
    "\n",
    "# 3.1.3\n",
    "tl('3-13')\n",
    "print('Skewness: ',sts.skew(data))\n",
    "# 3.1.4\n",
    "tl('3-14')\n",
    "print('Kurtosis: ',sts.kurtosis(data))"
   ]
  },
  {
   "cell_type": "markdown",
   "id": "a0551755-a4a6-45f9-a76a-8b2eb59052d8",
   "metadata": {},
   "source": [
    "### 3.2\n",
    "\n",
    "#### . Probability Distribution (Discrete)\n",
    "- `scipy.stats.binom.pmf(x, n, p, loc=0)`\n",
    "    - `scipy.stats.binom.mean(n, p, loc=0)`\n",
    "    - `scipy.stats.binom.var(n, p, loc=0)`\n",
    "\n",
    "- `scipy.stats.poisson.pmf(k, mu, loc=0)`\n",
    "    - `scipy.stats.poisson.mean(mu, loc=0)`\n",
    "    - `scipy.stats.poisson.var(mu, loc=0)`\n",
    "\n",
    "#### . Probability Distribution (Continuous)\n",
    "- `scipy.stats.randint.pmf(k, low, high, loc=0)`\n",
    "    - `scipy.stats.randint.mean(low, high, loc=0)`\n",
    "    - `scipy.stats.randint.var(low, high, loc=0)`\n",
    "\n",
    "- `scipy.stats.expon.pdf(x, loc=0, scale=1)`\n",
    "    - `scipy.stats.expon.mean(loc=0, scale=1)`\n",
    "    - `scipy.stats.expon.var(loc=0, scale=1)`\n",
    "\n",
    "- `scipy.stats.norm.pdf(x, loc=0, scale=1)`\n",
    "    - `scipy.stats.norm.mean(loc=0, scale=1)`\n",
    "    - `scipy.stats.norm.var(loc=0, scale=1)`"
   ]
  },
  {
   "cell_type": "code",
   "execution_count": 15,
   "id": "b6525a9a-7563-4f2b-bbb9-4c8f178976a1",
   "metadata": {},
   "outputs": [
    {
     "name": "stdout",
     "output_type": "stream",
     "text": [
      "\n",
      "*** 3-15 / 3-20 / 3-25 ***\n",
      "n= 10 p= 0.5\n",
      "\n",
      "0~10 times head up:  [0.00097656 0.00976563 0.04394531 0.1171875  0.20507812 0.24609375\n",
      " 0.20507812 0.1171875  0.04394531 0.00976563 0.00097656]\n",
      "p sum:  0.9999999999999999\n",
      "2 times head up:  0.04394531250000004\n",
      "mean:  5.0\n",
      "var:  2.5\n",
      "\n",
      "*** 3-16 / 3-21 / 3-26 ***\n",
      "rate= 2\n",
      "\n",
      "0~10 times accident:  [1.35335283e-01 2.70670566e-01 2.70670566e-01 1.80447044e-01\n",
      " 9.02235222e-02 3.60894089e-02 1.20298030e-02 3.43708656e-03\n",
      " 8.59271640e-04 1.90949253e-04 3.81898506e-05]\n",
      "4 times accident:  0.09022352215774178\n",
      "mean:  2.0\n",
      "var:  2.0\n",
      "\n",
      "*** 3-17 / 3-22 / 3-27 ***\n",
      "low= 120 high= 140\n",
      "\n",
      "flying 135 min, p:  0.05\n",
      "mean:  130.0\n",
      "var:  33.25\n",
      "\n",
      "*** 3-18 / 3-23 / 3-28 ***\n",
      "0~10 years, p: [3.00000000e+00 1.49361205e-01 7.43625653e-03 3.70229412e-04\n",
      " 1.84326371e-05 9.17706962e-07 4.56899392e-08 2.27476813e-09\n",
      " 1.13254036e-10 5.63858645e-12 2.80728689e-13]\n",
      "2 years scale, p: 0.0074362565299990755\n",
      "mean:  0.3333333333333333\n",
      "var:  0.1111111111111111\n",
      "\n",
      "*** 3-19 ***\n",
      "30mm/40mm/50mm, p: [0.00438208 0.09973557 0.00438208]\n",
      "mean:  40.0\n",
      "var:  16.0\n"
     ]
    }
   ],
   "source": [
    "from latex_print import *\n",
    "import random\n",
    "\n",
    "# 3.2\n",
    "\n",
    "# ex.3-15.3-20.3-25\n",
    "tl('3-15 / 3-20 / 3-25')\n",
    "import numpy as np\n",
    "from scipy import stats as sts\n",
    "n,p,k = 10,0.5,np.arange(0,11)\n",
    "print('n=',n,'p=',p)\n",
    "print()\n",
    "binomial = sts.binom.pmf(k,n,p)\n",
    "print('0~10 times head up: ',binomial)\n",
    "print('p sum: ',sum(binomial))\n",
    "print('2 times head up: ',binomial[2])\n",
    "\n",
    "binomial_mean = sts.binom.mean(n,p)\n",
    "print('mean: ',binomial_mean)\n",
    "\n",
    "binomial_var = sts.binom.var(n,p)\n",
    "print('var: ',binomial_var)\n",
    "\n",
    "# ex.3-16.3-21.3-26\n",
    "tl('3-16 / 3-21 / 3-26')\n",
    "rate = 2 # mu\n",
    "print('rate=',rate)\n",
    "print()\n",
    "n = np.arange(0,11)\n",
    "poisson = sts.poisson.pmf(n, rate)\n",
    "print('0~10 times accident: ',poisson)\n",
    "print('4 times accident: ',poisson[4])\n",
    "\n",
    "poisson_mean = sts.poisson.mean(rate)\n",
    "print('mean: ',poisson_mean)\n",
    "\n",
    "poisson_var = sts.poisson.var(rate)\n",
    "print('var: ',poisson_var)\n",
    "\n",
    "# ex.3-17.3-22.3-27\n",
    "tl('3-17 / 3-22 / 3-27')\n",
    "k,a,b = 135,120,140\n",
    "print('low=',a,'high=',b)\n",
    "print()\n",
    "uniform = sts.randint.pmf(k,a,b)\n",
    "print('flying 135 min, p: ',uniform)\n",
    "\n",
    "uniform_mean = sts.randint.mean(a,b,loc=0.5)\n",
    "print('mean: ',uniform_mean)\n",
    "\n",
    "uniform_var = sts.randint.var(a,b,loc=0)\n",
    "print('var: ',uniform_var)\n",
    "\n",
    "# ex.3-18.3-23.3-28\n",
    "tl('3-18 / 3-23 / 3-28')\n",
    "x = np.arange(0,11)\n",
    "expon = sts.expon.pdf(x,scale=1/3)\n",
    "print('0~10 years, p:',expon)\n",
    "print('2 years scale, p:',expon[2])\n",
    "\n",
    "expon_mean = sts.expon.mean(scale=1/3)\n",
    "print('mean: ',expon_mean)\n",
    "\n",
    "expon_var = sts.expon.var(scale=1/3)\n",
    "print('var: ',expon_var)\n",
    "\n",
    "# ex.3-19.3-24.3-29\n",
    "tl('3-19 / 3-24 / 3-29')\n",
    "print('30mm/40mm/50mm, p:',sts.norm.pdf([30,40,50],40,4))\n",
    "\n",
    "print('mean: ',sts.norm.mean(40))\n",
    "\n",
    "print('var: ',sts.norm.var(scale=4))\n",
    "\n"
   ]
  },
  {
   "cell_type": "markdown",
   "id": "c97ce56f-10ad-47ef-99a5-e53287310a46",
   "metadata": {},
   "source": [
    "### 3.3\n",
    "\n",
    "#### . Confidence Interval\n",
    "- `scipy.stats.norm.interval(alpha, loc=0, scale=1`\n",
    "\n",
    "#### . Hypothesis Testing\n",
    "- `scipy.stats.ttest_1samp(a, popmean, axis=0, nan_policy='propagate')`"
   ]
  },
  {
   "cell_type": "code",
   "execution_count": 3,
   "id": "6e80a4cc-423b-47df-b149-a33a5dc44e1c",
   "metadata": {},
   "outputs": [
    {
     "name": "stdout",
     "output_type": "stream",
     "text": [
      "\n",
      "*** 3-30 ***\n",
      "Confidence interval: (8.281201080463799, 8.398798919536201)\n",
      "\n",
      "*** 3-31 ***\n",
      "复原系数为：\n",
      " TtestResult(statistic=3.311651453111353, pvalue=0.010671924137571766, df=8)\n"
     ]
    }
   ],
   "source": [
    "from latex_print import *\n",
    "import random\n",
    "\n",
    "# 3.3\n",
    "# ex.3-30\n",
    "tl('3-30')\n",
    "from scipy import stats as sts\n",
    "CI = sts.norm.interval(0.95, loc=8.34, scale=0.03)\n",
    "print('Confidence interval:',CI)\n",
    "\n",
    "# ex.3-31\n",
    "tl('3-31')\n",
    "data = [0.8511,0.8891,0.8982,0.7625,0.8450,0.8380,0.8232,0.8883,0.8256]\n",
    "print('复原系数为：\\n', sts.ttest_1samp(a=data,popmean=0.80))\n"
   ]
  },
  {
   "cell_type": "markdown",
   "id": "fcf65ab7-1e7b-49ea-a2cd-303e4b4b504b",
   "metadata": {},
   "source": [
    "## Chapter 4 Linear Algebra\n"
   ]
  }
 ],
 "metadata": {
  "kernelspec": {
   "display_name": "Python 3 (ipykernel)",
   "language": "python",
   "name": "python3"
  },
  "language_info": {
   "codemirror_mode": {
    "name": "ipython",
    "version": 3
   },
   "file_extension": ".py",
   "mimetype": "text/x-python",
   "name": "python",
   "nbconvert_exporter": "python",
   "pygments_lexer": "ipython3",
   "version": "3.12.4"
  }
 },
 "nbformat": 4,
 "nbformat_minor": 5
}
